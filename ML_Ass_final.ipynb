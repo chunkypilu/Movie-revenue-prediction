{
 "cells": [
  {
   "cell_type": "markdown",
   "metadata": {},
   "source": [
    "ML ASSIGNMENT (Priyank Soni)"
   ]
  },
  {
   "cell_type": "raw",
   "metadata": {},
   "source": [
    "# Here idea is to use multi input model as there are both text and numeric data\n",
    "\n",
    "       text\n",
    "        |\n",
    "        |\n",
    " multi_hot_encoded           \n",
    "        |\n",
    "        |\n",
    "        |\n",
    "   embedded layer              numerical input\n",
    "        |                            |                                    |                                     |\n",
    "        |                            |\n",
    "        |                            |\n",
    "         |                          |\n",
    "          |                        |\n",
    "           |                      |\n",
    "            |                    |\n",
    "             |                  |\n",
    "              |                |\n",
    "               |              |\n",
    "                |            |\n",
    "                 |          |\n",
    "                  |        |\n",
    "                   |      |\n",
    "                    \n",
    "                  dense layers\n",
    "                       |\n",
    "                       |\n",
    "                       |\n",
    "                  output layer"
   ]
  },
  {
   "cell_type": "code",
   "execution_count": 1,
   "metadata": {},
   "outputs": [
    {
     "name": "stderr",
     "output_type": "stream",
     "text": [
      "Using TensorFlow backend.\n"
     ]
    }
   ],
   "source": [
    "import tensorflow as tf\n",
    "from tensorflow import keras\n",
    "import numpy as np\n",
    "import pandas as pd\n",
    "from keras.preprocessing.text import Tokenizer\n",
    "from keras.preprocessing.sequence import pad_sequences\n",
    "from keras.utils import plot_model\n",
    "\n"
   ]
  },
  {
   "cell_type": "markdown",
   "metadata": {},
   "source": [
    "# Reading csv"
   ]
  },
  {
   "cell_type": "code",
   "execution_count": 3,
   "metadata": {},
   "outputs": [
    {
     "name": "stderr",
     "output_type": "stream",
     "text": [
      "/home/priyank/anaconda3/lib/python3.7/site-packages/ipykernel_launcher.py:8: FutureWarning: Method .as_matrix will be removed in a future version. Use .values instead.\n",
      "  \n",
      "/home/priyank/anaconda3/lib/python3.7/site-packages/ipykernel_launcher.py:12: FutureWarning: Method .as_matrix will be removed in a future version. Use .values instead.\n",
      "  if sys.path[0] == '':\n",
      "/home/priyank/anaconda3/lib/python3.7/site-packages/ipykernel_launcher.py:18: FutureWarning: Method .as_matrix will be removed in a future version. Use .values instead.\n",
      "/home/priyank/anaconda3/lib/python3.7/site-packages/ipykernel_launcher.py:28: FutureWarning: Method .as_matrix will be removed in a future version. Use .values instead.\n",
      "/home/priyank/anaconda3/lib/python3.7/site-packages/ipykernel_launcher.py:33: FutureWarning: Method .as_matrix will be removed in a future version. Use .values instead.\n",
      "/home/priyank/anaconda3/lib/python3.7/site-packages/ipykernel_launcher.py:38: FutureWarning: Method .as_matrix will be removed in a future version. Use .values instead.\n",
      "/home/priyank/anaconda3/lib/python3.7/site-packages/ipykernel_launcher.py:41: FutureWarning: Method .as_matrix will be removed in a future version. Use .values instead.\n",
      "/home/priyank/anaconda3/lib/python3.7/site-packages/ipykernel_launcher.py:45: FutureWarning: Method .as_matrix will be removed in a future version. Use .values instead.\n",
      "/home/priyank/anaconda3/lib/python3.7/site-packages/ipykernel_launcher.py:51: FutureWarning: Method .as_matrix will be removed in a future version. Use .values instead.\n",
      "/home/priyank/anaconda3/lib/python3.7/site-packages/ipykernel_launcher.py:55: FutureWarning: Method .as_matrix will be removed in a future version. Use .values instead.\n",
      "/home/priyank/anaconda3/lib/python3.7/site-packages/ipykernel_launcher.py:59: FutureWarning: Method .as_matrix will be removed in a future version. Use .values instead.\n",
      "/home/priyank/anaconda3/lib/python3.7/site-packages/ipykernel_launcher.py:62: FutureWarning: Method .as_matrix will be removed in a future version. Use .values instead.\n",
      "/home/priyank/anaconda3/lib/python3.7/site-packages/ipykernel_launcher.py:66: FutureWarning: Method .as_matrix will be removed in a future version. Use .values instead.\n"
     ]
    }
   ],
   "source": [
    "p=pd.read_csv(\"/home/priyank/Downloads/mini_project/data.csv\")\n",
    "\n",
    "#p.head()\n",
    "\n",
    "keyword= p['Keywords']\n",
    "\n",
    "overview= p['overview']\n",
    "overview=(overview.astype(str)).as_matrix()\n",
    "\n",
    "\n",
    "belongs_to_collection=p['belongs_to_collection']\n",
    "belongs_to_collection=(belongs_to_collection.astype(str)).as_matrix()\n",
    "\n",
    "\n",
    "\n",
    "\n",
    "revenue=p['revenue']\n",
    "revenue=(revenue.astype(float)).as_matrix()\n",
    "revenue = np.expand_dims(revenue, axis=1)\n",
    "\n",
    "revenue_train= revenue[:2500]\n",
    "revenue_test=revenue[2500:]\n",
    "\n",
    "\n",
    "\n",
    "\n",
    "budget=p['budget']\n",
    "budget=(budget.astype(float)).as_matrix()\n",
    "budget = np.expand_dims(budget, axis=1)\n",
    "\n",
    "\n",
    "genres=p['genres']\n",
    "genres=(genres.astype(str)).as_matrix()\n",
    "\n",
    "\n",
    "\n",
    "original_language=p['original_language']\n",
    "original_language=(original_language.astype(str)).as_matrix()\n",
    "\n",
    "original_title=p['original_title']\n",
    "original_title=(original_title.astype(str)).as_matrix()\n",
    "\n",
    "\n",
    "popularity=p['popularity']\n",
    "popularity=(popularity.astype(float)).as_matrix()\n",
    "popularity = np.expand_dims(popularity, axis=1)\n",
    "\n",
    "\n",
    "\n",
    "runtime=p['runtime']\n",
    "runtime=(runtime.astype(float)).as_matrix()\n",
    "runtime = np.expand_dims(runtime, axis=1)\n",
    "\n",
    "Keywords=p['Keywords']\n",
    "Keywords=(Keywords.astype(str)).as_matrix()\n",
    "\n",
    "\n",
    "spoken_languages=p['spoken_languages']\n",
    "spoken_languages=(spoken_languages.astype(str)).as_matrix()\n",
    "\n",
    "cast=p['cast']\n",
    "cast=(cast.astype(str)).as_matrix()\n",
    "\n",
    "\n",
    "production_companies=p['production_companies']\n",
    "production_companies=(production_companies.astype(str)).as_matrix()\n",
    "\n",
    "\n",
    "\n",
    "\n",
    "\n"
   ]
  },
  {
   "cell_type": "code",
   "execution_count": 4,
   "metadata": {},
   "outputs": [
    {
     "data": {
      "text/html": [
       "<div>\n",
       "<style scoped>\n",
       "    .dataframe tbody tr th:only-of-type {\n",
       "        vertical-align: middle;\n",
       "    }\n",
       "\n",
       "    .dataframe tbody tr th {\n",
       "        vertical-align: top;\n",
       "    }\n",
       "\n",
       "    .dataframe thead th {\n",
       "        text-align: right;\n",
       "    }\n",
       "</style>\n",
       "<table border=\"1\" class=\"dataframe\">\n",
       "  <thead>\n",
       "    <tr style=\"text-align: right;\">\n",
       "      <th></th>\n",
       "      <th>id</th>\n",
       "      <th>belongs_to_collection</th>\n",
       "      <th>budget</th>\n",
       "      <th>genres</th>\n",
       "      <th>homepage</th>\n",
       "      <th>imdb_id</th>\n",
       "      <th>original_language</th>\n",
       "      <th>original_title</th>\n",
       "      <th>overview</th>\n",
       "      <th>popularity</th>\n",
       "      <th>...</th>\n",
       "      <th>release_date</th>\n",
       "      <th>runtime</th>\n",
       "      <th>spoken_languages</th>\n",
       "      <th>status</th>\n",
       "      <th>tagline</th>\n",
       "      <th>title</th>\n",
       "      <th>Keywords</th>\n",
       "      <th>cast</th>\n",
       "      <th>crew</th>\n",
       "      <th>revenue</th>\n",
       "    </tr>\n",
       "  </thead>\n",
       "  <tbody>\n",
       "    <tr>\n",
       "      <th>0</th>\n",
       "      <td>1</td>\n",
       "      <td>[{'id': 313576, 'name': 'Hot Tub Time Machine ...</td>\n",
       "      <td>14000000</td>\n",
       "      <td>[{'id': 35, 'name': 'Comedy'}]</td>\n",
       "      <td>NaN</td>\n",
       "      <td>tt2637294</td>\n",
       "      <td>en</td>\n",
       "      <td>Hot Tub Time Machine 2</td>\n",
       "      <td>When Lou, who has become the \"father of the In...</td>\n",
       "      <td>6.575393</td>\n",
       "      <td>...</td>\n",
       "      <td>2/20/15</td>\n",
       "      <td>93.0</td>\n",
       "      <td>[{'iso_639_1': 'en', 'name': 'English'}]</td>\n",
       "      <td>Released</td>\n",
       "      <td>The Laws of Space and Time are About to be Vio...</td>\n",
       "      <td>Hot Tub Time Machine 2</td>\n",
       "      <td>[{'id': 4379, 'name': 'time travel'}, {'id': 9...</td>\n",
       "      <td>[{'cast_id': 4, 'character': 'Lou', 'credit_id...</td>\n",
       "      <td>[{'credit_id': '59ac067c92514107af02c8c8', 'de...</td>\n",
       "      <td>12314651</td>\n",
       "    </tr>\n",
       "    <tr>\n",
       "      <th>1</th>\n",
       "      <td>2</td>\n",
       "      <td>[{'id': 107674, 'name': 'The Princess Diaries ...</td>\n",
       "      <td>40000000</td>\n",
       "      <td>[{'id': 35, 'name': 'Comedy'}, {'id': 18, 'nam...</td>\n",
       "      <td>NaN</td>\n",
       "      <td>tt0368933</td>\n",
       "      <td>en</td>\n",
       "      <td>The Princess Diaries 2: Royal Engagement</td>\n",
       "      <td>Mia Thermopolis is now a college graduate and ...</td>\n",
       "      <td>8.248895</td>\n",
       "      <td>...</td>\n",
       "      <td>8/6/04</td>\n",
       "      <td>113.0</td>\n",
       "      <td>[{'iso_639_1': 'en', 'name': 'English'}]</td>\n",
       "      <td>Released</td>\n",
       "      <td>It can take a lifetime to find true love; she'...</td>\n",
       "      <td>The Princess Diaries 2: Royal Engagement</td>\n",
       "      <td>[{'id': 2505, 'name': 'coronation'}, {'id': 42...</td>\n",
       "      <td>[{'cast_id': 1, 'character': 'Mia Thermopolis'...</td>\n",
       "      <td>[{'credit_id': '52fe43fe9251416c7502563d', 'de...</td>\n",
       "      <td>95149435</td>\n",
       "    </tr>\n",
       "    <tr>\n",
       "      <th>2</th>\n",
       "      <td>3</td>\n",
       "      <td>NaN</td>\n",
       "      <td>3300000</td>\n",
       "      <td>[{'id': 18, 'name': 'Drama'}]</td>\n",
       "      <td>http://sonyclassics.com/whiplash/</td>\n",
       "      <td>tt2582802</td>\n",
       "      <td>en</td>\n",
       "      <td>Whiplash</td>\n",
       "      <td>Under the direction of a ruthless instructor, ...</td>\n",
       "      <td>64.299990</td>\n",
       "      <td>...</td>\n",
       "      <td>10/10/14</td>\n",
       "      <td>105.0</td>\n",
       "      <td>[{'iso_639_1': 'en', 'name': 'English'}]</td>\n",
       "      <td>Released</td>\n",
       "      <td>The road to greatness can take you to the edge.</td>\n",
       "      <td>Whiplash</td>\n",
       "      <td>[{'id': 1416, 'name': 'jazz'}, {'id': 1523, 'n...</td>\n",
       "      <td>[{'cast_id': 5, 'character': 'Andrew Neimann',...</td>\n",
       "      <td>[{'credit_id': '54d5356ec3a3683ba0000039', 'de...</td>\n",
       "      <td>13092000</td>\n",
       "    </tr>\n",
       "    <tr>\n",
       "      <th>3</th>\n",
       "      <td>4</td>\n",
       "      <td>NaN</td>\n",
       "      <td>1200000</td>\n",
       "      <td>[{'id': 53, 'name': 'Thriller'}, {'id': 18, 'n...</td>\n",
       "      <td>http://kahaanithefilm.com/</td>\n",
       "      <td>tt1821480</td>\n",
       "      <td>hi</td>\n",
       "      <td>Kahaani</td>\n",
       "      <td>Vidya Bagchi (Vidya Balan) arrives in Kolkata ...</td>\n",
       "      <td>3.174936</td>\n",
       "      <td>...</td>\n",
       "      <td>3/9/12</td>\n",
       "      <td>122.0</td>\n",
       "      <td>[{'iso_639_1': 'en', 'name': 'English'}, {'iso...</td>\n",
       "      <td>Released</td>\n",
       "      <td>NaN</td>\n",
       "      <td>Kahaani</td>\n",
       "      <td>[{'id': 10092, 'name': 'mystery'}, {'id': 1054...</td>\n",
       "      <td>[{'cast_id': 1, 'character': 'Vidya Bagchi', '...</td>\n",
       "      <td>[{'credit_id': '52fe48779251416c9108d6eb', 'de...</td>\n",
       "      <td>16000000</td>\n",
       "    </tr>\n",
       "    <tr>\n",
       "      <th>4</th>\n",
       "      <td>5</td>\n",
       "      <td>NaN</td>\n",
       "      <td>0</td>\n",
       "      <td>[{'id': 28, 'name': 'Action'}, {'id': 53, 'nam...</td>\n",
       "      <td>NaN</td>\n",
       "      <td>tt1380152</td>\n",
       "      <td>ko</td>\n",
       "      <td>마린보이</td>\n",
       "      <td>Marine Boy is the story of a former national s...</td>\n",
       "      <td>1.148070</td>\n",
       "      <td>...</td>\n",
       "      <td>2/5/09</td>\n",
       "      <td>118.0</td>\n",
       "      <td>[{'iso_639_1': 'ko', 'name': '한국어/조선말'}]</td>\n",
       "      <td>Released</td>\n",
       "      <td>NaN</td>\n",
       "      <td>Marine Boy</td>\n",
       "      <td>NaN</td>\n",
       "      <td>[{'cast_id': 3, 'character': 'Chun-soo', 'cred...</td>\n",
       "      <td>[{'credit_id': '52fe464b9251416c75073b43', 'de...</td>\n",
       "      <td>3923970</td>\n",
       "    </tr>\n",
       "  </tbody>\n",
       "</table>\n",
       "<p>5 rows × 23 columns</p>\n",
       "</div>"
      ],
      "text/plain": [
       "   id                              belongs_to_collection    budget  \\\n",
       "0   1  [{'id': 313576, 'name': 'Hot Tub Time Machine ...  14000000   \n",
       "1   2  [{'id': 107674, 'name': 'The Princess Diaries ...  40000000   \n",
       "2   3                                                NaN   3300000   \n",
       "3   4                                                NaN   1200000   \n",
       "4   5                                                NaN         0   \n",
       "\n",
       "                                              genres  \\\n",
       "0                     [{'id': 35, 'name': 'Comedy'}]   \n",
       "1  [{'id': 35, 'name': 'Comedy'}, {'id': 18, 'nam...   \n",
       "2                      [{'id': 18, 'name': 'Drama'}]   \n",
       "3  [{'id': 53, 'name': 'Thriller'}, {'id': 18, 'n...   \n",
       "4  [{'id': 28, 'name': 'Action'}, {'id': 53, 'nam...   \n",
       "\n",
       "                            homepage    imdb_id original_language  \\\n",
       "0                                NaN  tt2637294                en   \n",
       "1                                NaN  tt0368933                en   \n",
       "2  http://sonyclassics.com/whiplash/  tt2582802                en   \n",
       "3         http://kahaanithefilm.com/  tt1821480                hi   \n",
       "4                                NaN  tt1380152                ko   \n",
       "\n",
       "                             original_title  \\\n",
       "0                    Hot Tub Time Machine 2   \n",
       "1  The Princess Diaries 2: Royal Engagement   \n",
       "2                                  Whiplash   \n",
       "3                                   Kahaani   \n",
       "4                                      마린보이   \n",
       "\n",
       "                                            overview  popularity  ...  \\\n",
       "0  When Lou, who has become the \"father of the In...    6.575393  ...   \n",
       "1  Mia Thermopolis is now a college graduate and ...    8.248895  ...   \n",
       "2  Under the direction of a ruthless instructor, ...   64.299990  ...   \n",
       "3  Vidya Bagchi (Vidya Balan) arrives in Kolkata ...    3.174936  ...   \n",
       "4  Marine Boy is the story of a former national s...    1.148070  ...   \n",
       "\n",
       "  release_date runtime                                   spoken_languages  \\\n",
       "0      2/20/15    93.0           [{'iso_639_1': 'en', 'name': 'English'}]   \n",
       "1       8/6/04   113.0           [{'iso_639_1': 'en', 'name': 'English'}]   \n",
       "2     10/10/14   105.0           [{'iso_639_1': 'en', 'name': 'English'}]   \n",
       "3       3/9/12   122.0  [{'iso_639_1': 'en', 'name': 'English'}, {'iso...   \n",
       "4       2/5/09   118.0           [{'iso_639_1': 'ko', 'name': '한국어/조선말'}]   \n",
       "\n",
       "     status                                            tagline  \\\n",
       "0  Released  The Laws of Space and Time are About to be Vio...   \n",
       "1  Released  It can take a lifetime to find true love; she'...   \n",
       "2  Released    The road to greatness can take you to the edge.   \n",
       "3  Released                                                NaN   \n",
       "4  Released                                                NaN   \n",
       "\n",
       "                                      title  \\\n",
       "0                    Hot Tub Time Machine 2   \n",
       "1  The Princess Diaries 2: Royal Engagement   \n",
       "2                                  Whiplash   \n",
       "3                                   Kahaani   \n",
       "4                                Marine Boy   \n",
       "\n",
       "                                            Keywords  \\\n",
       "0  [{'id': 4379, 'name': 'time travel'}, {'id': 9...   \n",
       "1  [{'id': 2505, 'name': 'coronation'}, {'id': 42...   \n",
       "2  [{'id': 1416, 'name': 'jazz'}, {'id': 1523, 'n...   \n",
       "3  [{'id': 10092, 'name': 'mystery'}, {'id': 1054...   \n",
       "4                                                NaN   \n",
       "\n",
       "                                                cast  \\\n",
       "0  [{'cast_id': 4, 'character': 'Lou', 'credit_id...   \n",
       "1  [{'cast_id': 1, 'character': 'Mia Thermopolis'...   \n",
       "2  [{'cast_id': 5, 'character': 'Andrew Neimann',...   \n",
       "3  [{'cast_id': 1, 'character': 'Vidya Bagchi', '...   \n",
       "4  [{'cast_id': 3, 'character': 'Chun-soo', 'cred...   \n",
       "\n",
       "                                                crew   revenue  \n",
       "0  [{'credit_id': '59ac067c92514107af02c8c8', 'de...  12314651  \n",
       "1  [{'credit_id': '52fe43fe9251416c7502563d', 'de...  95149435  \n",
       "2  [{'credit_id': '54d5356ec3a3683ba0000039', 'de...  13092000  \n",
       "3  [{'credit_id': '52fe48779251416c9108d6eb', 'de...  16000000  \n",
       "4  [{'credit_id': '52fe464b9251416c75073b43', 'de...   3923970  \n",
       "\n",
       "[5 rows x 23 columns]"
      ]
     },
     "execution_count": 4,
     "metadata": {},
     "output_type": "execute_result"
    }
   ],
   "source": [
    "p.head()"
   ]
  },
  {
   "cell_type": "code",
   "execution_count": 710,
   "metadata": {},
   "outputs": [
    {
     "data": {
      "text/plain": [
       "(2500, 1)"
      ]
     },
     "execution_count": 710,
     "metadata": {},
     "output_type": "execute_result"
    }
   ],
   "source": [
    "revenue_train.shape"
   ]
  },
  {
   "cell_type": "markdown",
   "metadata": {},
   "source": [
    "# #########Things related to \"overview\" column\n",
    "\n",
    "Here overview is text so we need to convert it into some meaningfull numeric data, First we are using a embedding layer and the flatten, output after flattening will be used as input for our model, we are using similar methodology for other text inputs, but some variations in layers used (for example embedding is not needed in  case of keywords)"
   ]
  },
  {
   "cell_type": "code",
   "execution_count": 711,
   "metadata": {},
   "outputs": [
    {
     "name": "stdout",
     "output_type": "stream",
     "text": [
      "Found 18539 unique tokens.\n",
      "Shape of data tensor: (3000, 100)\n",
      "(?, 10000)\n"
     ]
    }
   ],
   "source": [
    "texts = []\n",
    "\n",
    "for view in overview:\n",
    "    texts.append(view)\n",
    "\n",
    "maxlen = 100 #considering maxlength of a overview\n",
    "max_words = 10000 #considering only 10000 most common words\n",
    "\n",
    "tokenizer = Tokenizer(num_words=max_words)\n",
    "tokenizer.fit_on_texts(texts)\n",
    "sequences = tokenizer.texts_to_sequences(texts)\n",
    "\n",
    "word_index = tokenizer.word_index\n",
    "print('Found %s unique tokens.' % len(word_index))\n",
    "data = pad_sequences(sequences, maxlen=maxlen)\n",
    "#labels = np.asarray(labels)\n",
    "print('Shape of data tensor:', data.shape)\n",
    "#print('Shape of label tensor:', labels.shape)\n",
    "\n",
    "data_overview=data.astype(float)\n",
    "\n",
    "\n",
    "data_overview_train=data_overview[:2500]\n",
    "data_overview_test=data_overview[2500:]\n",
    "\n",
    "\n",
    "\n",
    "embedding_dim = 100\n",
    "\n",
    "\n",
    "# Use Input layers, specify input shape (dimensions except first)\n",
    "inp_multi_hot = keras.layers.Input(shape=(data_overview_train.shape[1],))\n",
    "\n",
    "\n",
    "# Bind nulti_hot to embedding layer\n",
    "emb = keras.layers.Embedding(input_dim=10000, output_dim=100)(inp_multi_hot)\n",
    "flatten = keras.layers.Flatten()(emb)\n",
    "\n",
    "print(flatten.shape)\n",
    "\n",
    "\n"
   ]
  },
  {
   "cell_type": "code",
   "execution_count": 712,
   "metadata": {},
   "outputs": [
    {
     "data": {
      "text/plain": [
       "(2500, 100)"
      ]
     },
     "execution_count": 712,
     "metadata": {},
     "output_type": "execute_result"
    }
   ],
   "source": [
    "data_overview_train.shape"
   ]
  },
  {
   "cell_type": "markdown",
   "metadata": {},
   "source": [
    "# things related to \"belongs_to_collection\"\n"
   ]
  },
  {
   "cell_type": "code",
   "execution_count": 713,
   "metadata": {},
   "outputs": [
    {
     "name": "stdout",
     "output_type": "stream",
     "text": [
      "Found 673 unique tokens.\n",
      "Shape of data tensor: (3000, 7)\n"
     ]
    }
   ],
   "source": [
    "import re\n",
    "\n",
    "b_to_c=[]\n",
    "for i  in belongs_to_collection:\n",
    "    i\n",
    "    b_to_c.append(re.findall(r\"name': '(.*?)',\", i))\n",
    "    \n",
    "    \n",
    "b_to_c_texts=[]\n",
    "for i  in b_to_c:\n",
    "    try:\n",
    "     x= i[0]   \n",
    "     b_to_c_texts.append(x)\n",
    "    except:\n",
    "        b_to_c_texts.append(\"NA\")\n",
    "\n",
    "       \n",
    "# Tokenizing the text of the raw data\n",
    "maxlen = 7  #max length of a sentence\n",
    "max_words = 2000  #dic size\n",
    "\n",
    "tokenizer = Tokenizer(num_words=max_words)\n",
    "tokenizer.fit_on_texts(b_to_c_texts)\n",
    "sequences = tokenizer.texts_to_sequences(b_to_c_texts)\n",
    "        \n",
    "word_index = tokenizer.word_index\n",
    "print('Found %s unique tokens.' % len(word_index))\n",
    "data = pad_sequences(sequences, maxlen=maxlen)\n",
    "print('Shape of data tensor:', data.shape)\n",
    "#print('Shape of label tensor:', labels.shape)        \n",
    "        \n",
    "    \n",
    "data_b_to_c=data.astype(float)    \n",
    "\n",
    "data_b_to_c_train=data_b_to_c[:2500]\n",
    "data_b_to_c_test=data_b_to_c[2500:]\n",
    "\n",
    "\n",
    "\n",
    "# Use Input layers, specify input shape (dimensions except first)\n",
    "inp_multi_hot_b_t_c = keras.layers.Input(shape=(data_b_to_c_train.shape[1],))\n",
    "\n",
    "\n",
    "# Bind nulti_hot to embedding layer\n",
    "emb_b_t_c = keras.layers.Embedding(input_dim=10000, output_dim=100)(inp_multi_hot_b_t_c)\n",
    "flatten_b_t_c = keras.layers.Flatten()(emb_b_t_c)\n",
    "\n"
   ]
  },
  {
   "cell_type": "code",
   "execution_count": 714,
   "metadata": {},
   "outputs": [
    {
     "data": {
      "text/plain": [
       "(2500, 7)"
      ]
     },
     "execution_count": 714,
     "metadata": {},
     "output_type": "execute_result"
    }
   ],
   "source": [
    "data_b_to_c_train.shape"
   ]
  },
  {
   "cell_type": "code",
   "execution_count": null,
   "metadata": {},
   "outputs": [],
   "source": []
  },
  {
   "cell_type": "markdown",
   "metadata": {},
   "source": [
    "# things related to \"genere\""
   ]
  },
  {
   "cell_type": "code",
   "execution_count": 715,
   "metadata": {},
   "outputs": [
    {
     "name": "stdout",
     "output_type": "stream",
     "text": [
      "Found 20 unique tokens.\n",
      "Shape of data tensor: (3000, 7)\n"
     ]
    }
   ],
   "source": [
    "import re\n",
    "\n",
    "gen=[]\n",
    "\n",
    "for i  in genres:\n",
    "    i\n",
    "    gen.append(re.findall(r\"name': '(.*?)'}\", i))\n",
    "    \n",
    "\n",
    "#find max len\n",
    "\n",
    "max_len=0\n",
    "for g in gen:\n",
    "    l=len(g)\n",
    "    if l > max_len:\n",
    "        max_len=l  \n",
    "        \n",
    "        \n",
    "        \n",
    "maxlen = max_len\n",
    "max_words = 20\n",
    "\n",
    "tokenizer = Tokenizer(num_words=max_words)\n",
    "tokenizer.fit_on_texts(gen)\n",
    "sequences = tokenizer.texts_to_sequences(gen)\n",
    "\n",
    "word_index = tokenizer.word_index\n",
    "print('Found %s unique tokens.' % len(word_index))\n",
    "data = pad_sequences(sequences, maxlen=maxlen)\n",
    "#labels = np.asarray(labels)\n",
    "print('Shape of data tensor:', data.shape)\n",
    "#print('Shape of label tensor:', labels.shape)\n",
    "\n",
    "data_generes=data.astype(float)\n",
    "\n",
    "\n",
    "data_generes_train=data_generes[:2500]\n",
    "data_generes_test=data_generes[2500:]\n",
    "\n",
    "\n",
    "inp_multi_hot_generes = keras.layers.Input(shape=(data_generes_train.shape[1],))\n",
    "\n",
    "\n",
    "# Bind nulti_hot to embedding layer\n",
    "#emb = keras.layers.Embedding(input_dim=10000, output_dim=100)(inp_multi_hot)\n",
    "#flatten = keras.layers.Flatten()(emb)\n",
    "\n",
    "        "
   ]
  },
  {
   "cell_type": "code",
   "execution_count": 716,
   "metadata": {},
   "outputs": [
    {
     "data": {
      "text/plain": [
       "TensorShape([Dimension(None), Dimension(7)])"
      ]
     },
     "execution_count": 716,
     "metadata": {},
     "output_type": "execute_result"
    }
   ],
   "source": [
    "inp_multi_hot_generes.shape"
   ]
  },
  {
   "cell_type": "code",
   "execution_count": null,
   "metadata": {},
   "outputs": [],
   "source": []
  },
  {
   "cell_type": "markdown",
   "metadata": {},
   "source": [
    "# Original language"
   ]
  },
  {
   "cell_type": "code",
   "execution_count": 717,
   "metadata": {},
   "outputs": [
    {
     "name": "stdout",
     "output_type": "stream",
     "text": [
      "Found 36 unique tokens.\n",
      "Shape of data tensor: (3000, 1)\n"
     ]
    }
   ],
   "source": [
    "org_lan=[]\n",
    "\n",
    "for i  in original_language:\n",
    "    i\n",
    "    org_lan.append(i)\n",
    "    \n",
    "    \n",
    "maxlen = 1\n",
    "max_words = 40\n",
    "\n",
    "tokenizer = Tokenizer(num_words=max_words)\n",
    "tokenizer.fit_on_texts(org_lan)\n",
    "sequences = tokenizer.texts_to_sequences(org_lan)\n",
    "\n",
    "\n",
    "word_index = tokenizer.word_index\n",
    "print('Found %s unique tokens.' % len(word_index))\n",
    "data = pad_sequences(sequences, maxlen=maxlen)\n",
    "#labels = np.asarray(labels)\n",
    "print('Shape of data tensor:', data.shape)\n",
    "#print('Shape of label tensor:', labels.shape)\n",
    "\n",
    "data_org_lang=data.astype(float)\n",
    "\n",
    "data_org_lang_train=data_org_lang[:2500]\n",
    "data_org_lang_test=data_org_lang[2500:]\n",
    "\n",
    "\n",
    "inp_multi_hot_org_lang = keras.layers.Input(shape=(data_org_lang_train.shape[1],))\n"
   ]
  },
  {
   "cell_type": "code",
   "execution_count": null,
   "metadata": {},
   "outputs": [],
   "source": []
  },
  {
   "cell_type": "markdown",
   "metadata": {},
   "source": [
    "# Original title"
   ]
  },
  {
   "cell_type": "code",
   "execution_count": 718,
   "metadata": {},
   "outputs": [
    {
     "name": "stdout",
     "output_type": "stream",
     "text": [
      "Found 3807 unique tokens.\n",
      "Shape of data tensor: (3000, 8)\n"
     ]
    }
   ],
   "source": [
    "\n",
    "org_title=[]\n",
    "\n",
    "for i  in original_title:\n",
    "    i\n",
    "    org_title.append(i)\n",
    "    \n",
    "    \n",
    "maxlen = 8\n",
    "max_words = 3500\n",
    "\n",
    "tokenizer = Tokenizer(num_words=max_words)\n",
    "tokenizer.fit_on_texts(org_title)\n",
    "sequences = tokenizer.texts_to_sequences(org_title)\n",
    "\n",
    "word_index = tokenizer.word_index\n",
    "print('Found %s unique tokens.' % len(word_index))\n",
    "data = pad_sequences(sequences, maxlen=maxlen)\n",
    "#labels = np.asarray(labels)\n",
    "print('Shape of data tensor:', data.shape)\n",
    "#print('Shape of label tensor:', labels.shape)\n",
    "\n",
    "data_org_title=data.astype(float)\n",
    "\n",
    "\n",
    "data_org_title_train=data_org_title[:2500]\n",
    "data_org_title_test=data_org_title[2500:]\n",
    "\n",
    "inp_multi_hot_org_title = keras.layers.Input(shape=(data_org_title_train.shape[1],))\n"
   ]
  },
  {
   "cell_type": "code",
   "execution_count": null,
   "metadata": {},
   "outputs": [],
   "source": []
  },
  {
   "cell_type": "markdown",
   "metadata": {},
   "source": [
    "# Keywords"
   ]
  },
  {
   "cell_type": "code",
   "execution_count": 719,
   "metadata": {},
   "outputs": [
    {
     "name": "stdout",
     "output_type": "stream",
     "text": [
      "Found 1142 unique tokens.\n",
      "Shape of data tensor: (3000, 1)\n"
     ]
    }
   ],
   "source": [
    "import re\n",
    "\n",
    "Keywords_list=[]\n",
    "for i  in Keywords:\n",
    "    i\n",
    "    Keywords_list.append(re.findall(r\"name': '(.*?)'}\", i))\n",
    "    \n",
    "    \n",
    "Keywords_texts=[]\n",
    "for i  in Keywords_list:\n",
    "    try:\n",
    "     x= i[0]   \n",
    "     Keywords_texts.append(x)\n",
    "    except:\n",
    "        Keywords_texts.append(\"NA\")\n",
    "        \n",
    "# Tokenizing the text of the raw data\n",
    "maxlen = 1  #max length of a sentence\n",
    "max_words = 1000  #dic size\n",
    "\n",
    "tokenizer = Tokenizer(num_words=max_words)\n",
    "tokenizer.fit_on_texts(Keywords_texts)\n",
    "sequences = tokenizer.texts_to_sequences(Keywords_texts)\n",
    "        \n",
    "word_index = tokenizer.word_index\n",
    "print('Found %s unique tokens.' % len(word_index))\n",
    "data = pad_sequences(sequences, maxlen=maxlen)\n",
    "print('Shape of data tensor:', data.shape)\n",
    "#print('Shape of label tensor:', labels.shape)        \n",
    "        \n",
    "    \n",
    "data_Keywords=data.astype(float)    \n",
    "\n",
    "data_Keywords_train=data_Keywords[:2500]\n",
    "data_Keywords_test=data_Keywords[2500:]\n",
    "\n",
    "\n",
    "inp_multi_hot_Keywords = keras.layers.Input(shape=(data_Keywords_train.shape[1],))\n"
   ]
  },
  {
   "cell_type": "code",
   "execution_count": null,
   "metadata": {},
   "outputs": [],
   "source": []
  },
  {
   "cell_type": "markdown",
   "metadata": {},
   "source": [
    "# spoken_languages\n"
   ]
  },
  {
   "cell_type": "code",
   "execution_count": 720,
   "metadata": {},
   "outputs": [
    {
     "name": "stdout",
     "output_type": "stream",
     "text": [
      "Found 50 unique tokens.\n",
      "Shape of data tensor: (3000, 1)\n"
     ]
    }
   ],
   "source": [
    "import re\n",
    "\n",
    "spoken_lang_list=[]\n",
    "for i  in spoken_languages:\n",
    "    i\n",
    "    spoken_lang_list.append(re.findall(r\"name': '(.*?)'}\", i))\n",
    "    \n",
    "    \n",
    "spoken_lang_texts=[]\n",
    "for i  in spoken_lang_list:\n",
    "    try:\n",
    "     x= i[0]   \n",
    "     spoken_lang_texts.append(x)\n",
    "    except:\n",
    "        spoken_lang_texts.append(\"NA\")\n",
    "\n",
    "   \n",
    "# Tokenizing the text of the raw data\n",
    "maxlen = 1  #max length of a sentence\n",
    "max_words = 50  #dic size\n",
    "\n",
    "tokenizer = Tokenizer(num_words=max_words)\n",
    "tokenizer.fit_on_texts(spoken_lang_texts)\n",
    "sequences = tokenizer.texts_to_sequences(spoken_lang_texts)\n",
    "        \n",
    "word_index = tokenizer.word_index\n",
    "print('Found %s unique tokens.' % len(word_index))\n",
    "data = pad_sequences(sequences, maxlen=maxlen)\n",
    "print('Shape of data tensor:', data.shape)\n",
    "#print('Shape of label tensor:', labels.shape)        \n",
    "        \n",
    "    \n",
    "data_spoken_lang=data.astype(float)    \n",
    "\n",
    "data_spoken_lang_train=data_spoken_lang[:2500]\n",
    "data_spoken_lang_test=data_spoken_lang[2500:]\n",
    "\n",
    "\n",
    "inp_multi_hot_spoken_lang = keras.layers.Input(shape=(data_spoken_lang_train.shape[1],))\n",
    "\n",
    "        "
   ]
  },
  {
   "cell_type": "code",
   "execution_count": null,
   "metadata": {},
   "outputs": [],
   "source": []
  },
  {
   "cell_type": "markdown",
   "metadata": {},
   "source": [
    "# cast\n"
   ]
  },
  {
   "cell_type": "code",
   "execution_count": 721,
   "metadata": {},
   "outputs": [
    {
     "name": "stdout",
     "output_type": "stream",
     "text": [
      "Found 2373 unique tokens.\n",
      "Shape of data tensor: (3000, 2)\n"
     ]
    }
   ],
   "source": [
    "import re\n",
    "\n",
    "cast_list=[]\n",
    "for i  in cast:\n",
    "    i\n",
    "    cast_list.append(re.findall(r\"name': '(.*?)',\", i))\n",
    "    \n",
    "    \n",
    "cast_texts=[]\n",
    "for i  in cast_list:\n",
    "    try:\n",
    "     x= i[0]   \n",
    "     cast_texts.append(x)\n",
    "    except:\n",
    "        cast_texts.append(\"NA\")\n",
    "# Tokenizing the text of the raw data\n",
    "maxlen = 2  #max length of a sentence\n",
    "max_words = 2000  #dic size\n",
    "\n",
    "tokenizer = Tokenizer(num_words=max_words)\n",
    "tokenizer.fit_on_texts(cast_texts)\n",
    "sequences = tokenizer.texts_to_sequences(cast_texts)\n",
    "        \n",
    "word_index = tokenizer.word_index\n",
    "print('Found %s unique tokens.' % len(word_index))\n",
    "data = pad_sequences(sequences, maxlen=maxlen)\n",
    "print('Shape of data tensor:', data.shape)\n",
    "#print('Shape of label tensor:', labels.shape)        \n",
    "        \n",
    "    \n",
    "data_cast=data.astype(float)    \n",
    "\n",
    "data_cast_train=data_cast[:2500]\n",
    "data_cast_test=data_cast[2500:]\n",
    "\n",
    "inp_multi_hot_cast = keras.layers.Input(shape=(data_cast_train.shape[1],))\n",
    "\n"
   ]
  },
  {
   "cell_type": "code",
   "execution_count": null,
   "metadata": {},
   "outputs": [],
   "source": []
  },
  {
   "cell_type": "markdown",
   "metadata": {},
   "source": [
    "# popularity and runtime"
   ]
  },
  {
   "cell_type": "code",
   "execution_count": 722,
   "metadata": {},
   "outputs": [
    {
     "data": {
      "text/plain": [
       "(3000, 1)"
      ]
     },
     "execution_count": 722,
     "metadata": {},
     "output_type": "execute_result"
    }
   ],
   "source": [
    "popularity.shape"
   ]
  },
  {
   "cell_type": "code",
   "execution_count": 723,
   "metadata": {},
   "outputs": [
    {
     "data": {
      "text/plain": [
       "(3000, 1)"
      ]
     },
     "execution_count": 723,
     "metadata": {},
     "output_type": "execute_result"
    }
   ],
   "source": [
    "runtime.shape"
   ]
  },
  {
   "cell_type": "code",
   "execution_count": 724,
   "metadata": {},
   "outputs": [
    {
     "data": {
      "text/plain": [
       "array([[ 93.],\n",
       "       [113.],\n",
       "       [105.],\n",
       "       ...,\n",
       "       [120.],\n",
       "       [ 90.],\n",
       "       [106.]])"
      ]
     },
     "execution_count": 724,
     "metadata": {},
     "output_type": "execute_result"
    }
   ],
   "source": [
    "runtime"
   ]
  },
  {
   "cell_type": "code",
   "execution_count": 725,
   "metadata": {},
   "outputs": [
    {
     "data": {
      "text/plain": [
       "'\\nmax_run = max(runtime)\\n\\nprint(max_run)\\nruntime /= max_run\\nruntime\\n'"
      ]
     },
     "execution_count": 725,
     "metadata": {},
     "output_type": "execute_result"
    }
   ],
   "source": [
    "'''\n",
    "max_run = max(runtime)\n",
    "\n",
    "print(max_run)\n",
    "runtime /= max_run\n",
    "runtime\n",
    "'''"
   ]
  },
  {
   "cell_type": "code",
   "execution_count": 726,
   "metadata": {},
   "outputs": [
    {
     "data": {
      "text/plain": [
       "(3000, 1)"
      ]
     },
     "execution_count": 726,
     "metadata": {},
     "output_type": "execute_result"
    }
   ],
   "source": [
    "runtime.shape"
   ]
  },
  {
   "cell_type": "code",
   "execution_count": 727,
   "metadata": {},
   "outputs": [
    {
     "data": {
      "text/plain": [
       "\"\\nfor i in range(0,len(runtime)):\\n    if runtime[i]==0:\\n        #print('yes')\\n        runtime[i]=90\\n\""
      ]
     },
     "execution_count": 727,
     "metadata": {},
     "output_type": "execute_result"
    }
   ],
   "source": [
    "'''\n",
    "mean = popularity.mean(axis=0)\n",
    "popularity -= mean\n",
    "std = popularity.std(axis=0)\n",
    "popularity /= std\n",
    "popularity\n",
    "\n",
    "'''\n",
    "\n",
    "'''\n",
    "for i in range(0,len(runtime)):\n",
    "    if runtime[i]==0:\n",
    "        #print('yes')\n",
    "        runtime[i]=90\n",
    "'''        "
   ]
  },
  {
   "cell_type": "code",
   "execution_count": null,
   "metadata": {},
   "outputs": [],
   "source": []
  },
  {
   "cell_type": "code",
   "execution_count": 728,
   "metadata": {},
   "outputs": [],
   "source": [
    "#popl_runtime = np.concatenate((popularity,runtime),axis=1)\n",
    "\n",
    "popl_runtime = popularity"
   ]
  },
  {
   "cell_type": "code",
   "execution_count": 729,
   "metadata": {},
   "outputs": [
    {
     "data": {
      "text/plain": [
       "(3000, 1)"
      ]
     },
     "execution_count": 729,
     "metadata": {},
     "output_type": "execute_result"
    }
   ],
   "source": [
    "popl_runtime.shape"
   ]
  },
  {
   "cell_type": "code",
   "execution_count": 730,
   "metadata": {},
   "outputs": [],
   "source": [
    "popl_runtime_train=popl_runtime[:2500]\n",
    "popl_runtime_test=popl_runtime[2500:]\n"
   ]
  },
  {
   "cell_type": "code",
   "execution_count": 731,
   "metadata": {},
   "outputs": [
    {
     "data": {
      "text/plain": [
       "array([[ 6.575393],\n",
       "       [ 8.248895],\n",
       "       [64.29999 ],\n",
       "       ...,\n",
       "       [12.201954],\n",
       "       [ 0.884241],\n",
       "       [12.199047]])"
      ]
     },
     "execution_count": 731,
     "metadata": {},
     "output_type": "execute_result"
    }
   ],
   "source": [
    "popl_runtime_train"
   ]
  },
  {
   "cell_type": "code",
   "execution_count": 732,
   "metadata": {},
   "outputs": [],
   "source": [
    "inp_num_data_popl_runtime = keras.layers.Input(shape=(popl_runtime_train.shape[1],))"
   ]
  },
  {
   "cell_type": "code",
   "execution_count": 733,
   "metadata": {},
   "outputs": [
    {
     "data": {
      "text/plain": [
       "TensorShape([Dimension(None), Dimension(1)])"
      ]
     },
     "execution_count": 733,
     "metadata": {},
     "output_type": "execute_result"
    }
   ],
   "source": [
    "inp_num_data_popl_runtime.shape"
   ]
  },
  {
   "cell_type": "code",
   "execution_count": null,
   "metadata": {},
   "outputs": [],
   "source": []
  },
  {
   "cell_type": "markdown",
   "metadata": {},
   "source": [
    "# numeric data (budget)"
   ]
  },
  {
   "cell_type": "code",
   "execution_count": 734,
   "metadata": {},
   "outputs": [],
   "source": [
    "\n",
    "budget_train=budget[:2500]\n",
    "budget_test=budget[2500:]\n",
    "\n",
    "\n",
    "inp_num_data = keras.layers.Input(shape=(budget_train.shape[1],))"
   ]
  },
  {
   "cell_type": "code",
   "execution_count": 735,
   "metadata": {},
   "outputs": [
    {
     "data": {
      "text/plain": [
       "(2500, 1)"
      ]
     },
     "execution_count": 735,
     "metadata": {},
     "output_type": "execute_result"
    }
   ],
   "source": [
    "budget_train.shape"
   ]
  },
  {
   "cell_type": "code",
   "execution_count": 736,
   "metadata": {},
   "outputs": [
    {
     "data": {
      "text/plain": [
       "TensorShape([Dimension(None), Dimension(1)])"
      ]
     },
     "execution_count": 736,
     "metadata": {},
     "output_type": "execute_result"
    }
   ],
   "source": [
    "inp_num_data.shape"
   ]
  },
  {
   "cell_type": "markdown",
   "metadata": {},
   "source": [
    "# Concatenation of various inputs and define model"
   ]
  },
  {
   "cell_type": "markdown",
   "metadata": {},
   "source": [
    "Here we will be concatinating different inputs and define our model"
   ]
  },
  {
   "cell_type": "code",
   "execution_count": 737,
   "metadata": {},
   "outputs": [
    {
     "name": "stdout",
     "output_type": "stream",
     "text": [
      "__________________________________________________________________________________________________\n",
      "Layer (type)                    Output Shape         Param #     Connected to                     \n",
      "==================================================================================================\n",
      "input_186 (InputLayer)          (None, 100)          0                                            \n",
      "__________________________________________________________________________________________________\n",
      "input_187 (InputLayer)          (None, 7)            0                                            \n",
      "__________________________________________________________________________________________________\n",
      "embedding_48 (Embedding)        (None, 100, 100)     1000000     input_186[0][0]                  \n",
      "__________________________________________________________________________________________________\n",
      "embedding_49 (Embedding)        (None, 7, 100)       1000000     input_187[0][0]                  \n",
      "__________________________________________________________________________________________________\n",
      "flatten_48 (Flatten)            (None, 10000)        0           embedding_48[0][0]               \n",
      "__________________________________________________________________________________________________\n",
      "flatten_49 (Flatten)            (None, 700)          0           embedding_49[0][0]               \n",
      "__________________________________________________________________________________________________\n",
      "input_188 (InputLayer)          (None, 7)            0                                            \n",
      "__________________________________________________________________________________________________\n",
      "input_189 (InputLayer)          (None, 1)            0                                            \n",
      "__________________________________________________________________________________________________\n",
      "input_190 (InputLayer)          (None, 8)            0                                            \n",
      "__________________________________________________________________________________________________\n",
      "input_191 (InputLayer)          (None, 1)            0                                            \n",
      "__________________________________________________________________________________________________\n",
      "input_192 (InputLayer)          (None, 1)            0                                            \n",
      "__________________________________________________________________________________________________\n",
      "input_193 (InputLayer)          (None, 2)            0                                            \n",
      "__________________________________________________________________________________________________\n",
      "input_194 (InputLayer)          (None, 1)            0                                            \n",
      "__________________________________________________________________________________________________\n",
      "input_195 (InputLayer)          (None, 1)            0                                            \n",
      "__________________________________________________________________________________________________\n",
      "concatenate_22 (Concatenate)    (None, 10722)        0           flatten_48[0][0]                 \n",
      "                                                                 flatten_49[0][0]                 \n",
      "                                                                 input_188[0][0]                  \n",
      "                                                                 input_189[0][0]                  \n",
      "                                                                 input_190[0][0]                  \n",
      "                                                                 input_191[0][0]                  \n",
      "                                                                 input_192[0][0]                  \n",
      "                                                                 input_193[0][0]                  \n",
      "                                                                 input_194[0][0]                  \n",
      "                                                                 input_195[0][0]                  \n",
      "__________________________________________________________________________________________________\n",
      "dense_84 (Dense)                (None, 64)           686272      concatenate_22[0][0]             \n",
      "__________________________________________________________________________________________________\n",
      "dense_85 (Dense)                (None, 32)           2080        dense_84[0][0]                   \n",
      "__________________________________________________________________________________________________\n",
      "dense_86 (Dense)                (None, 8)            264         dense_85[0][0]                   \n",
      "__________________________________________________________________________________________________\n",
      "dense_87 (Dense)                (None, 1)            9           dense_86[0][0]                   \n",
      "==================================================================================================\n",
      "Total params: 2,688,625\n",
      "Trainable params: 2,688,625\n",
      "Non-trainable params: 0\n",
      "__________________________________________________________________________________________________\n",
      "None\n",
      "Train on 2250 samples, validate on 250 samples\n",
      "Epoch 1/100\n",
      "2250/2250 [==============================] - 2s 1ms/sample - loss: 12.3980 - acc: 0.0018 - val_loss: 7.5846 - val_acc: 0.0000e+00\n",
      "Epoch 2/100\n",
      "2250/2250 [==============================] - 1s 625us/sample - loss: 6.8648 - acc: 0.0018 - val_loss: 7.2397 - val_acc: 0.0000e+00\n",
      "Epoch 3/100\n",
      "2250/2250 [==============================] - 1s 637us/sample - loss: 6.5111 - acc: 0.0018 - val_loss: 7.2186 - val_acc: 0.0000e+00\n",
      "Epoch 4/100\n",
      "2250/2250 [==============================] - 1s 633us/sample - loss: 6.4522 - acc: 0.0018 - val_loss: 7.9291 - val_acc: 0.0000e+00\n",
      "Epoch 5/100\n",
      "2250/2250 [==============================] - 1s 638us/sample - loss: 6.3466 - acc: 0.0018 - val_loss: 7.0317 - val_acc: 0.0000e+00\n",
      "Epoch 6/100\n",
      "2250/2250 [==============================] - 1s 665us/sample - loss: 6.2793 - acc: 0.0018 - val_loss: 7.3267 - val_acc: 0.0000e+00\n",
      "Epoch 7/100\n",
      "2250/2250 [==============================] - 2s 670us/sample - loss: 6.2448 - acc: 0.0018 - val_loss: 7.3277 - val_acc: 0.0000e+00\n",
      "Epoch 8/100\n",
      "2250/2250 [==============================] - 2s 670us/sample - loss: 6.1888 - acc: 0.0018 - val_loss: 7.9440 - val_acc: 0.0000e+00\n",
      "Epoch 9/100\n",
      "2250/2250 [==============================] - 2s 672us/sample - loss: 6.1499 - acc: 0.0018 - val_loss: 7.0940 - val_acc: 0.0000e+00\n",
      "Epoch 10/100\n",
      "2250/2250 [==============================] - 2s 686us/sample - loss: 6.0203 - acc: 0.0018 - val_loss: 7.0282 - val_acc: 0.0000e+00\n",
      "Epoch 11/100\n",
      "2250/2250 [==============================] - 1s 638us/sample - loss: 5.9318 - acc: 0.0018 - val_loss: 7.4827 - val_acc: 0.0000e+00\n",
      "Epoch 12/100\n",
      "2250/2250 [==============================] - 2s 673us/sample - loss: 5.8512 - acc: 0.0018 - val_loss: 7.3198 - val_acc: 0.0000e+00\n",
      "Epoch 13/100\n",
      "2250/2250 [==============================] - 1s 641us/sample - loss: 5.6206 - acc: 0.0018 - val_loss: 7.6367 - val_acc: 0.0000e+00\n",
      "Epoch 14/100\n",
      "2250/2250 [==============================] - 1s 641us/sample - loss: 5.4875 - acc: 0.0018 - val_loss: 7.7808 - val_acc: 0.0000e+00\n",
      "Epoch 15/100\n",
      "2250/2250 [==============================] - 1s 656us/sample - loss: 5.2401 - acc: 0.0018 - val_loss: 7.8747 - val_acc: 0.0000e+00\n",
      "Epoch 16/100\n",
      "2250/2250 [==============================] - 2s 703us/sample - loss: 5.0634 - acc: 0.0018 - val_loss: 8.1013 - val_acc: 0.0000e+00\n",
      "Epoch 17/100\n",
      "2250/2250 [==============================] - 2s 680us/sample - loss: 4.8963 - acc: 0.0018 - val_loss: 8.2751 - val_acc: 0.0000e+00\n",
      "Epoch 18/100\n",
      "2250/2250 [==============================] - 1s 614us/sample - loss: 4.7141 - acc: 0.0018 - val_loss: 8.4211 - val_acc: 0.0000e+00\n",
      "Epoch 19/100\n",
      "2250/2250 [==============================] - 1s 590us/sample - loss: 4.4617 - acc: 0.0018 - val_loss: 8.2205 - val_acc: 0.0000e+00\n",
      "Epoch 20/100\n",
      "2250/2250 [==============================] - 2s 741us/sample - loss: 4.3437 - acc: 0.0018 - val_loss: 8.4929 - val_acc: 0.0000e+00\n",
      "Epoch 21/100\n",
      "2250/2250 [==============================] - 1s 586us/sample - loss: 4.1256 - acc: 0.0018 - val_loss: 8.5590 - val_acc: 0.0000e+00\n",
      "Epoch 22/100\n"
     ]
    },
    {
     "name": "stdout",
     "output_type": "stream",
     "text": [
      "2250/2250 [==============================] - 1s 572us/sample - loss: 4.0051 - acc: 0.0018 - val_loss: 8.6073 - val_acc: 0.0000e+00\n",
      "Epoch 23/100\n",
      "2250/2250 [==============================] - 1s 569us/sample - loss: 3.9023 - acc: 0.0018 - val_loss: 8.6289 - val_acc: 0.0000e+00\n",
      "Epoch 24/100\n",
      "2250/2250 [==============================] - 1s 583us/sample - loss: 3.7354 - acc: 0.0018 - val_loss: 8.6776 - val_acc: 0.0000e+00\n",
      "Epoch 25/100\n",
      "2250/2250 [==============================] - 2s 672us/sample - loss: 3.6266 - acc: 0.0018 - val_loss: 8.8495 - val_acc: 0.0000e+00\n",
      "Epoch 26/100\n",
      "2250/2250 [==============================] - 2s 836us/sample - loss: 3.5266 - acc: 0.0018 - val_loss: 10.8239 - val_acc: 0.0000e+00\n",
      "Epoch 27/100\n",
      "2250/2250 [==============================] - 2s 721us/sample - loss: 3.5120 - acc: 0.0018 - val_loss: 9.1717 - val_acc: 0.0000e+00\n",
      "Epoch 28/100\n",
      "2250/2250 [==============================] - 2s 671us/sample - loss: 3.3747 - acc: 0.0018 - val_loss: 9.1478 - val_acc: 0.0000e+00\n",
      "Epoch 29/100\n",
      "2250/2250 [==============================] - 2s 697us/sample - loss: 3.2931 - acc: 0.0018 - val_loss: 9.0350 - val_acc: 0.0000e+00\n",
      "Epoch 30/100\n",
      "2250/2250 [==============================] - 2s 694us/sample - loss: 3.1887 - acc: 0.0018 - val_loss: 9.1588 - val_acc: 0.0000e+00\n",
      "Epoch 31/100\n",
      "2250/2250 [==============================] - 2s 719us/sample - loss: 3.2600 - acc: 0.0018 - val_loss: 9.3683 - val_acc: 0.0000e+00\n",
      "Epoch 32/100\n",
      "2250/2250 [==============================] - 2s 687us/sample - loss: 3.1254 - acc: 0.0018 - val_loss: 9.1143 - val_acc: 0.0000e+00\n",
      "Epoch 33/100\n",
      "2250/2250 [==============================] - 1s 649us/sample - loss: 3.1015 - acc: 0.0018 - val_loss: 9.8229 - val_acc: 0.0000e+00\n",
      "Epoch 34/100\n",
      "2250/2250 [==============================] - 1s 645us/sample - loss: 3.0341 - acc: 0.0018 - val_loss: 9.6864 - val_acc: 0.0000e+00\n",
      "Epoch 35/100\n",
      "2250/2250 [==============================] - 2s 706us/sample - loss: 3.1269 - acc: 0.0018 - val_loss: 9.3887 - val_acc: 0.0000e+00\n",
      "Epoch 36/100\n",
      "2250/2250 [==============================] - 2s 707us/sample - loss: 3.0085 - acc: 0.0018 - val_loss: 9.3155 - val_acc: 0.0000e+00\n",
      "Epoch 37/100\n",
      "2250/2250 [==============================] - 2s 675us/sample - loss: 2.9940 - acc: 0.0018 - val_loss: 9.1020 - val_acc: 0.0000e+00\n",
      "Epoch 38/100\n",
      "2250/2250 [==============================] - 1s 653us/sample - loss: 2.9557 - acc: 0.0018 - val_loss: 9.1565 - val_acc: 0.0000e+00\n",
      "Epoch 39/100\n",
      "2250/2250 [==============================] - 2s 701us/sample - loss: 2.9255 - acc: 0.0018 - val_loss: 9.1776 - val_acc: 0.0000e+00\n",
      "Epoch 40/100\n",
      "2250/2250 [==============================] - 2s 761us/sample - loss: 2.9931 - acc: 0.0018 - val_loss: 8.8187 - val_acc: 0.0000e+00\n",
      "Epoch 41/100\n",
      "2250/2250 [==============================] - 2s 714us/sample - loss: 2.8727 - acc: 0.0018 - val_loss: 8.8372 - val_acc: 0.0000e+00\n",
      "Epoch 42/100\n",
      "2250/2250 [==============================] - 2s 678us/sample - loss: 2.9165 - acc: 0.0018 - val_loss: 8.6920 - val_acc: 0.0000e+00\n",
      "Epoch 43/100\n",
      "2250/2250 [==============================] - 2s 679us/sample - loss: 2.9015 - acc: 0.0018 - val_loss: 9.0379 - val_acc: 0.0000e+00\n",
      "Epoch 44/100\n",
      "2250/2250 [==============================] - 1s 655us/sample - loss: 3.0937 - acc: 0.0018 - val_loss: 9.0684 - val_acc: 0.0000e+00\n",
      "Epoch 45/100\n",
      "2250/2250 [==============================] - 2s 675us/sample - loss: 2.8887 - acc: 0.0018 - val_loss: 8.6954 - val_acc: 0.0000e+00\n",
      "Epoch 46/100\n",
      "2250/2250 [==============================] - 2s 708us/sample - loss: 2.8914 - acc: 0.0018 - val_loss: 8.7613 - val_acc: 0.0000e+00\n",
      "Epoch 47/100\n",
      "2250/2250 [==============================] - 2s 691us/sample - loss: 2.8205 - acc: 0.0018 - val_loss: 8.8800 - val_acc: 0.0000e+00\n",
      "Epoch 48/100\n",
      "2250/2250 [==============================] - 2s 685us/sample - loss: 2.8527 - acc: 0.0018 - val_loss: 9.0156 - val_acc: 0.0000e+00\n",
      "Epoch 49/100\n",
      "2250/2250 [==============================] - 2s 716us/sample - loss: 2.8346 - acc: 0.0018 - val_loss: 8.6490 - val_acc: 0.0000e+00\n",
      "Epoch 50/100\n",
      "2250/2250 [==============================] - 2s 674us/sample - loss: 2.8255 - acc: 0.0018 - val_loss: 8.8040 - val_acc: 0.0000e+00\n",
      "Epoch 51/100\n",
      "2250/2250 [==============================] - 1s 660us/sample - loss: 2.8029 - acc: 0.0018 - val_loss: 8.5577 - val_acc: 0.0000e+00\n",
      "Epoch 52/100\n",
      "2250/2250 [==============================] - 2s 772us/sample - loss: 2.8581 - acc: 0.0018 - val_loss: 9.0277 - val_acc: 0.0000e+00\n",
      "Epoch 53/100\n",
      "2250/2250 [==============================] - 2s 779us/sample - loss: 2.9835 - acc: 0.0018 - val_loss: 8.9174 - val_acc: 0.0000e+00\n",
      "Epoch 54/100\n",
      "2250/2250 [==============================] - 2s 718us/sample - loss: 2.8616 - acc: 0.0018 - val_loss: 8.6686 - val_acc: 0.0000e+00\n",
      "Epoch 55/100\n",
      "2250/2250 [==============================] - 2s 723us/sample - loss: 2.8237 - acc: 0.0018 - val_loss: 8.8551 - val_acc: 0.0000e+00\n",
      "Epoch 56/100\n",
      "2250/2250 [==============================] - 2s 749us/sample - loss: 2.9431 - acc: 0.0018 - val_loss: 8.6896 - val_acc: 0.0000e+00\n",
      "Epoch 57/100\n",
      "2250/2250 [==============================] - 2s 707us/sample - loss: 2.8787 - acc: 0.0018 - val_loss: 8.7168 - val_acc: 0.0000e+00\n",
      "Epoch 58/100\n",
      "2250/2250 [==============================] - 2s 696us/sample - loss: 3.1335 - acc: 0.0018 - val_loss: 8.8421 - val_acc: 0.0000e+00\n",
      "Epoch 59/100\n",
      "2250/2250 [==============================] - 2s 687us/sample - loss: 2.8003 - acc: 0.0018 - val_loss: 8.6867 - val_acc: 0.0000e+00\n",
      "Epoch 60/100\n",
      "2250/2250 [==============================] - 2s 697us/sample - loss: 2.9459 - acc: 0.0018 - val_loss: 8.4570 - val_acc: 0.0000e+00\n",
      "Epoch 61/100\n",
      "2250/2250 [==============================] - 1s 655us/sample - loss: 2.9685 - acc: 0.0018 - val_loss: 8.7675 - val_acc: 0.0000e+00\n",
      "Epoch 62/100\n",
      "2250/2250 [==============================] - 1s 654us/sample - loss: 3.0969 - acc: 0.0018 - val_loss: 8.5796 - val_acc: 0.0000e+00\n",
      "Epoch 63/100\n",
      "2250/2250 [==============================] - 2s 675us/sample - loss: 2.8100 - acc: 0.0018 - val_loss: 8.5204 - val_acc: 0.0000e+00\n",
      "Epoch 64/100\n",
      "2250/2250 [==============================] - 2s 673us/sample - loss: 2.7868 - acc: 0.0018 - val_loss: 8.6819 - val_acc: 0.0000e+00\n",
      "Epoch 65/100\n",
      "2250/2250 [==============================] - 2s 709us/sample - loss: 2.8236 - acc: 0.0018 - val_loss: 8.3948 - val_acc: 0.0000e+00\n",
      "Epoch 66/100\n",
      "2250/2250 [==============================] - 1s 665us/sample - loss: 2.8581 - acc: 0.0018 - val_loss: 8.6877 - val_acc: 0.0000e+00\n",
      "Epoch 67/100\n",
      "2250/2250 [==============================] - 2s 698us/sample - loss: 2.8029 - acc: 0.0018 - val_loss: 8.6431 - val_acc: 0.0000e+00\n",
      "Epoch 68/100\n",
      "2250/2250 [==============================] - 2s 677us/sample - loss: 2.8100 - acc: 0.0018 - val_loss: 8.8069 - val_acc: 0.0000e+00\n",
      "Epoch 69/100\n",
      "2250/2250 [==============================] - 1s 658us/sample - loss: 2.8407 - acc: 0.0018 - val_loss: 8.6233 - val_acc: 0.0000e+00\n",
      "Epoch 70/100\n",
      "2250/2250 [==============================] - 2s 755us/sample - loss: 2.8270 - acc: 0.0018 - val_loss: 8.5281 - val_acc: 0.0000e+00\n",
      "Epoch 71/100\n",
      "2250/2250 [==============================] - 2s 681us/sample - loss: 2.8613 - acc: 0.0018 - val_loss: 8.7343 - val_acc: 0.0000e+00\n",
      "Epoch 72/100\n",
      "2250/2250 [==============================] - 2s 749us/sample - loss: 2.9191 - acc: 0.0018 - val_loss: 8.4709 - val_acc: 0.0000e+00\n",
      "Epoch 73/100\n",
      "2250/2250 [==============================] - 2s 714us/sample - loss: 2.8540 - acc: 0.0018 - val_loss: 8.6126 - val_acc: 0.0000e+00\n",
      "Epoch 74/100\n",
      "2250/2250 [==============================] - 2s 740us/sample - loss: 2.8607 - acc: 0.0018 - val_loss: 8.4930 - val_acc: 0.0000e+00\n",
      "Epoch 75/100\n",
      "2250/2250 [==============================] - 2s 694us/sample - loss: 2.7789 - acc: 0.0018 - val_loss: 8.4118 - val_acc: 0.0000e+00\n",
      "Epoch 76/100\n",
      "2250/2250 [==============================] - 2s 668us/sample - loss: 2.8589 - acc: 0.0018 - val_loss: 8.6005 - val_acc: 0.0000e+00\n",
      "Epoch 77/100\n",
      "2250/2250 [==============================] - 2s 670us/sample - loss: 2.7978 - acc: 0.0018 - val_loss: 8.5479 - val_acc: 0.0000e+00\n",
      "Epoch 78/100\n",
      "2250/2250 [==============================] - 2s 703us/sample - loss: 2.8243 - acc: 0.0018 - val_loss: 8.5490 - val_acc: 0.0000e+00\n"
     ]
    },
    {
     "name": "stdout",
     "output_type": "stream",
     "text": [
      "Epoch 79/100\n",
      "2250/2250 [==============================] - 1s 623us/sample - loss: 2.8032 - acc: 0.0018 - val_loss: 8.5307 - val_acc: 0.0000e+00\n",
      "Epoch 80/100\n",
      "2250/2250 [==============================] - 1s 635us/sample - loss: 2.7622 - acc: 0.0018 - val_loss: 8.6061 - val_acc: 0.0000e+00\n",
      "Epoch 81/100\n",
      "2250/2250 [==============================] - 1s 659us/sample - loss: 2.8760 - acc: 0.0018 - val_loss: 8.6766 - val_acc: 0.0000e+00\n",
      "Epoch 82/100\n",
      "2250/2250 [==============================] - 2s 681us/sample - loss: 2.7476 - acc: 0.0018 - val_loss: 8.7631 - val_acc: 0.0000e+00\n",
      "Epoch 83/100\n",
      "2250/2250 [==============================] - 2s 727us/sample - loss: 2.9000 - acc: 0.0018 - val_loss: 8.7930 - val_acc: 0.0000e+00\n",
      "Epoch 84/100\n",
      "2250/2250 [==============================] - 1s 662us/sample - loss: 2.8196 - acc: 0.0018 - val_loss: 8.4677 - val_acc: 0.0000e+00\n",
      "Epoch 85/100\n",
      "2250/2250 [==============================] - 1s 638us/sample - loss: 2.7621 - acc: 0.0018 - val_loss: 8.5268 - val_acc: 0.0000e+00\n",
      "Epoch 86/100\n",
      "2250/2250 [==============================] - 1s 645us/sample - loss: 2.9546 - acc: 0.0018 - val_loss: 8.8430 - val_acc: 0.0000e+00\n",
      "Epoch 87/100\n",
      "2250/2250 [==============================] - 2s 726us/sample - loss: 2.7712 - acc: 0.0018 - val_loss: 8.7155 - val_acc: 0.0000e+00\n",
      "Epoch 88/100\n",
      "2250/2250 [==============================] - 2s 697us/sample - loss: 2.7674 - acc: 0.0018 - val_loss: 8.5728 - val_acc: 0.0000e+00\n",
      "Epoch 89/100\n",
      "2250/2250 [==============================] - 1s 662us/sample - loss: 2.7549 - acc: 0.0018 - val_loss: 8.7034 - val_acc: 0.0000e+00\n",
      "Epoch 90/100\n",
      "2250/2250 [==============================] - 1s 648us/sample - loss: 2.7531 - acc: 0.0018 - val_loss: 8.7317 - val_acc: 0.0000e+00\n",
      "Epoch 91/100\n",
      "2250/2250 [==============================] - 1s 666us/sample - loss: 2.8073 - acc: 0.0018 - val_loss: 8.5637 - val_acc: 0.0000e+00\n",
      "Epoch 92/100\n",
      "2250/2250 [==============================] - 2s 701us/sample - loss: 2.8986 - acc: 0.0018 - val_loss: 8.5506 - val_acc: 0.0000e+00\n",
      "Epoch 93/100\n",
      "2250/2250 [==============================] - 1s 646us/sample - loss: 2.7322 - acc: 0.0018 - val_loss: 8.5289 - val_acc: 0.0000e+00\n",
      "Epoch 94/100\n",
      "2250/2250 [==============================] - 2s 916us/sample - loss: 2.7927 - acc: 0.0018 - val_loss: 8.5043 - val_acc: 0.0000e+00\n",
      "Epoch 95/100\n",
      "2250/2250 [==============================] - 1s 660us/sample - loss: 2.7537 - acc: 0.0018 - val_loss: 8.4466 - val_acc: 0.0000e+00\n",
      "Epoch 96/100\n",
      "2250/2250 [==============================] - 2s 705us/sample - loss: 2.7480 - acc: 0.0018 - val_loss: 8.5873 - val_acc: 0.0000e+00\n",
      "Epoch 97/100\n",
      "2250/2250 [==============================] - 2s 677us/sample - loss: 2.8474 - acc: 0.0018 - val_loss: 8.4203 - val_acc: 0.0000e+00\n",
      "Epoch 98/100\n",
      "2250/2250 [==============================] - 2s 740us/sample - loss: 2.7505 - acc: 0.0018 - val_loss: 8.7855 - val_acc: 0.0000e+00\n",
      "Epoch 99/100\n",
      "2250/2250 [==============================] - 1s 654us/sample - loss: 2.7768 - acc: 0.0018 - val_loss: 8.3877 - val_acc: 0.0000e+00\n",
      "Epoch 100/100\n",
      "2250/2250 [==============================] - 2s 755us/sample - loss: 2.7859 - acc: 0.0018 - val_loss: 8.6644 - val_acc: 0.0000e+00\n"
     ]
    }
   ],
   "source": [
    "conc = keras.layers.Concatenate()([flatten,flatten_b_t_c,inp_multi_hot_generes,inp_multi_hot_org_lang, inp_multi_hot_org_title, inp_multi_hot_Keywords ,inp_multi_hot_spoken_lang,inp_multi_hot_cast, inp_num_data_popl_runtime, inp_num_data])\n",
    "\n",
    "dense1 = keras.layers.Dense(64, activation=tf.nn.relu, )(conc)\n",
    "\n",
    "dense2 = keras.layers.Dense(32, activation=tf.nn.relu, )(dense1)\n",
    "\n",
    "dense3 = keras.layers.Dense(8, activation=tf.nn.relu, )(dense2)\n",
    "\n",
    "# Creating output layer\n",
    "out = keras.layers.Dense(1)(dense3)\n",
    "\n",
    "\n",
    "model = keras.Model(inputs=[inp_multi_hot, inp_multi_hot_b_t_c,inp_multi_hot_generes,inp_multi_hot_org_lang, inp_multi_hot_org_title, inp_multi_hot_Keywords, inp_multi_hot_spoken_lang, inp_multi_hot_cast,inp_num_data_popl_runtime, inp_num_data], outputs=out)\n",
    "\n",
    "\n",
    "# summarize layers\n",
    "print(model.summary())\n",
    "# plot graph\n",
    "#plot_model(model, to_file='multiple_inputs.png')\n",
    "\n",
    "model.compile(optimizer=tf.train.RMSPropOptimizer(0.01),\n",
    "              loss=keras.losses.mean_squared_logarithmic_error,\n",
    "              metrics=['accuracy'])\n",
    "\n",
    "\n",
    "\n",
    "#history= model.fit([data_overview_train, data_b_to_c_train,budget_train], revenue_train, epochs=100, validation_data=([data_overview_val, data_b_to_c_val,budget_val], revenue_val))\n",
    "history= model.fit([data_overview_train, data_b_to_c_train, data_generes_train ,data_org_lang_train, data_org_title_train,data_Keywords_train ,data_spoken_lang_train, data_cast_train, popl_runtime_train, budget_train], revenue_train, epochs=100, validation_split = 0.1)\n",
    "\n"
   ]
  },
  {
   "cell_type": "code",
   "execution_count": null,
   "metadata": {},
   "outputs": [],
   "source": []
  },
  {
   "cell_type": "code",
   "execution_count": 738,
   "metadata": {},
   "outputs": [
    {
     "name": "stdout",
     "output_type": "stream",
     "text": [
      "WARNING:tensorflow:TensorFlow optimizers do not make it possible to access optimizer attributes or optimizer state after instantiation. As a result, we cannot save the optimizer as part of the model save file.You will have to compile your model again after loading it. Prefer using a Keras optimizer instead (see keras.io/optimizers).\n"
     ]
    }
   ],
   "source": [
    "\n",
    "model.save('my_model.h5')  # creates a HDF5 file 'my_model.h5'\n",
    "del model  # deletes the existing model\n"
   ]
  },
  {
   "cell_type": "code",
   "execution_count": 739,
   "metadata": {},
   "outputs": [
    {
     "name": "stdout",
     "output_type": "stream",
     "text": [
      "WARNING:tensorflow:No training configuration found in save file: the model was *not* compiled. Compile it manually.\n",
      "__________________________________________________________________________________________________\n",
      "Layer (type)                    Output Shape         Param #     Connected to                     \n",
      "==================================================================================================\n",
      "input_186 (InputLayer)          (None, 100)          0                                            \n",
      "__________________________________________________________________________________________________\n",
      "input_187 (InputLayer)          (None, 7)            0                                            \n",
      "__________________________________________________________________________________________________\n",
      "embedding_48 (Embedding)        (None, 100, 100)     1000000     input_186[0][0]                  \n",
      "__________________________________________________________________________________________________\n",
      "embedding_49 (Embedding)        (None, 7, 100)       1000000     input_187[0][0]                  \n",
      "__________________________________________________________________________________________________\n",
      "flatten_48 (Flatten)            (None, 10000)        0           embedding_48[0][0]               \n",
      "__________________________________________________________________________________________________\n",
      "flatten_49 (Flatten)            (None, 700)          0           embedding_49[0][0]               \n",
      "__________________________________________________________________________________________________\n",
      "input_188 (InputLayer)          (None, 7)            0                                            \n",
      "__________________________________________________________________________________________________\n",
      "input_189 (InputLayer)          (None, 1)            0                                            \n",
      "__________________________________________________________________________________________________\n",
      "input_190 (InputLayer)          (None, 8)            0                                            \n",
      "__________________________________________________________________________________________________\n",
      "input_191 (InputLayer)          (None, 1)            0                                            \n",
      "__________________________________________________________________________________________________\n",
      "input_192 (InputLayer)          (None, 1)            0                                            \n",
      "__________________________________________________________________________________________________\n",
      "input_193 (InputLayer)          (None, 2)            0                                            \n",
      "__________________________________________________________________________________________________\n",
      "input_194 (InputLayer)          (None, 1)            0                                            \n",
      "__________________________________________________________________________________________________\n",
      "input_195 (InputLayer)          (None, 1)            0                                            \n",
      "__________________________________________________________________________________________________\n",
      "concatenate_22 (Concatenate)    (None, 10722)        0           flatten_48[0][0]                 \n",
      "                                                                 flatten_49[0][0]                 \n",
      "                                                                 input_188[0][0]                  \n",
      "                                                                 input_189[0][0]                  \n",
      "                                                                 input_190[0][0]                  \n",
      "                                                                 input_191[0][0]                  \n",
      "                                                                 input_192[0][0]                  \n",
      "                                                                 input_193[0][0]                  \n",
      "                                                                 input_194[0][0]                  \n",
      "                                                                 input_195[0][0]                  \n",
      "__________________________________________________________________________________________________\n",
      "dense_84 (Dense)                (None, 64)           686272      concatenate_22[0][0]             \n",
      "__________________________________________________________________________________________________\n",
      "dense_85 (Dense)                (None, 32)           2080        dense_84[0][0]                   \n",
      "__________________________________________________________________________________________________\n",
      "dense_86 (Dense)                (None, 8)            264         dense_85[0][0]                   \n",
      "__________________________________________________________________________________________________\n",
      "dense_87 (Dense)                (None, 1)            9           dense_86[0][0]                   \n",
      "==================================================================================================\n",
      "Total params: 2,688,625\n",
      "Trainable params: 2,688,625\n",
      "Non-trainable params: 0\n",
      "__________________________________________________________________________________________________\n"
     ]
    }
   ],
   "source": [
    "new_model = keras.models.load_model('my_model.h5')\n",
    "new_model.summary()\n"
   ]
  },
  {
   "cell_type": "code",
   "execution_count": 740,
   "metadata": {},
   "outputs": [
    {
     "data": {
      "text/plain": [
       "array([[2.97109680e+07],\n",
       "       [1.23818750e+05],\n",
       "       [4.16325750e+06],\n",
       "       [2.86104040e+07],\n",
       "       [2.53300280e+07],\n",
       "       [2.42952620e+07],\n",
       "       [1.48625690e+07],\n",
       "       [2.38805600e+06],\n",
       "       [5.13505350e+06],\n",
       "       [9.50841800e+06],\n",
       "       [2.14260450e+06],\n",
       "       [1.94554362e+06],\n",
       "       [2.97072800e+07],\n",
       "       [2.13872120e+07],\n",
       "       [6.53491760e+07],\n",
       "       [7.86031200e+06],\n",
       "       [3.89090680e+07],\n",
       "       [1.15561840e+08],\n",
       "       [1.06929888e+08],\n",
       "       [1.14030475e+06],\n",
       "       [2.73296340e+07],\n",
       "       [3.68358200e+07],\n",
       "       [4.28194600e+06],\n",
       "       [7.13357350e+06],\n",
       "       [1.17062240e+07],\n",
       "       [5.58443160e+07],\n",
       "       [1.18848870e+07],\n",
       "       [4.75781250e+06],\n",
       "       [7.12935650e+06],\n",
       "       [2.97070080e+07],\n",
       "       [8.31630000e+07],\n",
       "       [1.78377100e+07],\n",
       "       [2.97026464e+08],\n",
       "       [9.51971900e+06],\n",
       "       [8.91128880e+07],\n",
       "       [9.50556800e+07],\n",
       "       [1.64167350e+06],\n",
       "       [2.55472100e+07],\n",
       "       [8.20207950e+06],\n",
       "       [1.84837344e+05],\n",
       "       [1.26915797e+05],\n",
       "       [4.15867520e+07],\n",
       "       [4.16078500e+06],\n",
       "       [4.05470280e+07],\n",
       "       [5.94040680e+07],\n",
       "       [5.34714480e+07],\n",
       "       [2.13940880e+07],\n",
       "       [1.78210640e+08],\n",
       "       [2.35406050e+06],\n",
       "       [6.66521125e+05],\n",
       "       [1.17277875e+06],\n",
       "       [3.56433080e+07],\n",
       "       [9.50485680e+07],\n",
       "       [1.54669000e+07],\n",
       "       [1.59277370e+07],\n",
       "       [1.42784840e+07],\n",
       "       [3.20527324e+04],\n",
       "       [5.34977350e+06],\n",
       "       [3.56447040e+07],\n",
       "       [5.00308450e+06],\n",
       "       [1.57931859e+05],\n",
       "       [2.97207680e+07],\n",
       "       [2.37616704e+08],\n",
       "       [8.81331700e+06],\n",
       "       [4.16011680e+07],\n",
       "       [2.97034760e+07],\n",
       "       [7.13597250e+06],\n",
       "       [1.30770110e+07],\n",
       "       [1.23631500e+07],\n",
       "       [1.42630750e+07],\n",
       "       [1.96035920e+08],\n",
       "       [3.40029781e+05],\n",
       "       [4.39631360e+07],\n",
       "       [1.43635438e+06],\n",
       "       [2.62330450e+06],\n",
       "       [3.13384438e+05],\n",
       "       [1.79587012e+06],\n",
       "       [1.05224320e+07],\n",
       "       [1.78698925e+06],\n",
       "       [2.37718680e+07],\n",
       "       [2.38292625e+06],\n",
       "       [1.78261160e+07],\n",
       "       [1.73663688e+06],\n",
       "       [4.64226750e+05],\n",
       "       [3.57295750e+06],\n",
       "       [1.50900888e+06],\n",
       "       [1.28220070e+07],\n",
       "       [3.56518960e+07],\n",
       "       [1.62338362e+06],\n",
       "       [4.15863560e+07],\n",
       "       [7.20139219e+04],\n",
       "       [4.15944560e+07],\n",
       "       [2.44885571e+03],\n",
       "       [2.97074560e+07],\n",
       "       [2.18921325e+06],\n",
       "       [1.42681230e+07],\n",
       "       [1.01968744e+06],\n",
       "       [1.54489950e+07],\n",
       "       [3.84223175e+06],\n",
       "       [1.06927232e+08],\n",
       "       [4.42650240e+07],\n",
       "       [6.05072562e+05],\n",
       "       [8.06248150e+06],\n",
       "       [8.31713920e+07],\n",
       "       [2.37800700e+07],\n",
       "       [1.08300438e+06],\n",
       "       [9.50567600e+07],\n",
       "       [5.94307200e+06],\n",
       "       [1.60455130e+07],\n",
       "       [5.68921938e+05],\n",
       "       [5.75220875e+05],\n",
       "       [1.63703080e+07],\n",
       "       [3.56478360e+07],\n",
       "       [3.32714360e+07],\n",
       "       [5.82140600e+07],\n",
       "       [9.66563594e+04],\n",
       "       [1.66460130e+07],\n",
       "       [3.56513560e+07],\n",
       "       [1.54481490e+07],\n",
       "       [1.01072420e+07],\n",
       "       [2.97052040e+07],\n",
       "       [1.78253000e+07],\n",
       "       [1.84377500e+06],\n",
       "       [2.34607712e+08],\n",
       "       [5.94318200e+06],\n",
       "       [1.12796830e+07],\n",
       "       [7.12871200e+07],\n",
       "       [1.19679112e+06],\n",
       "       [1.04522656e+06],\n",
       "       [3.39255720e+07],\n",
       "       [8.37274062e+05],\n",
       "       [1.21184096e+08],\n",
       "       [9.50451760e+07],\n",
       "       [1.54522110e+07],\n",
       "       [5.64865050e+06],\n",
       "       [1.18842740e+07],\n",
       "       [3.08932240e+07],\n",
       "       [2.03975664e+04],\n",
       "       [5.94177840e+07],\n",
       "       [8.31688480e+07],\n",
       "       [1.26699738e+06],\n",
       "       [1.42309225e+06],\n",
       "       [8.91100560e+07],\n",
       "       [4.39673840e+07],\n",
       "       [1.24758400e+08],\n",
       "       [1.08401088e+06],\n",
       "       [1.14630000e+06],\n",
       "       [1.72287616e+08],\n",
       "       [7.72336960e+07],\n",
       "       [1.72968700e+06],\n",
       "       [8.32313100e+06],\n",
       "       [3.09004492e+04],\n",
       "       [2.37910450e+06],\n",
       "       [7.72383600e+06],\n",
       "       [4.76297920e+07],\n",
       "       [6.19300688e+05],\n",
       "       [4.99006320e+07],\n",
       "       [1.54483010e+07],\n",
       "       [1.59595240e+07],\n",
       "       [1.18826650e+07],\n",
       "       [4.75739250e+06],\n",
       "       [2.37623600e+07],\n",
       "       [5.99084125e+05],\n",
       "       [4.51540480e+07],\n",
       "       [4.75242480e+07],\n",
       "       [7.53982688e+05],\n",
       "       [3.80218440e+07],\n",
       "       [4.90724200e+07],\n",
       "       [5.82960250e+06],\n",
       "       [6.53468640e+07],\n",
       "       [3.86885640e+07],\n",
       "       [2.04656312e+05],\n",
       "       [3.56411520e+07],\n",
       "       [8.79747109e+04],\n",
       "       [1.45543810e+07],\n",
       "       [5.94487300e+06],\n",
       "       [3.85812100e+06],\n",
       "       [8.71330176e+03],\n",
       "       [5.08034450e+06],\n",
       "       [2.97050060e+07],\n",
       "       [5.53378125e+05],\n",
       "       [5.94899400e+06],\n",
       "       [3.56505775e+06],\n",
       "       [1.36741790e+07],\n",
       "       [6.42304562e+05],\n",
       "       [9.51481900e+06],\n",
       "       [6.13717400e+06],\n",
       "       [2.38043200e+06],\n",
       "       [5.35263200e+06],\n",
       "       [1.00988536e+08],\n",
       "       [3.80232320e+07],\n",
       "       [2.61404380e+07],\n",
       "       [2.97032200e+07],\n",
       "       [5.97104562e+05],\n",
       "       [2.34721860e+07],\n",
       "       [2.83979225e+06],\n",
       "       [5.94043350e+06],\n",
       "       [2.37979775e+06],\n",
       "       [5.94011200e+06],\n",
       "       [2.82677500e+07],\n",
       "       [4.15858120e+07],\n",
       "       [1.18830480e+07],\n",
       "       [3.56424680e+07],\n",
       "       [1.18857370e+07],\n",
       "       [9.50952700e+06],\n",
       "       [4.51457680e+07],\n",
       "       [1.18806512e+08],\n",
       "       [1.42610650e+07],\n",
       "       [1.25760080e+07],\n",
       "       [7.12893440e+07],\n",
       "       [1.79806828e+05],\n",
       "       [2.02009320e+07],\n",
       "       [1.90107260e+07],\n",
       "       [5.94092000e+07],\n",
       "       [3.56524075e+06],\n",
       "       [5.10885720e+07],\n",
       "       [1.87445925e+06],\n",
       "       [1.42574180e+07],\n",
       "       [4.77516758e+04],\n",
       "       [1.18806808e+08],\n",
       "       [9.56745500e+06],\n",
       "       [1.24765220e+07],\n",
       "       [5.99209688e+05],\n",
       "       [3.80220280e+07],\n",
       "       [1.78225420e+07],\n",
       "       [9.49842900e+06],\n",
       "       [5.34631720e+07],\n",
       "       [5.93482438e+05],\n",
       "       [3.11661780e+07],\n",
       "       [1.48506304e+08],\n",
       "       [8.31985400e+06],\n",
       "       [2.25784680e+07],\n",
       "       [5.94150600e+06],\n",
       "       [4.75228840e+07],\n",
       "       [4.75265360e+07],\n",
       "       [2.13891400e+07],\n",
       "       [8.65305100e+06],\n",
       "       [2.91072320e+08],\n",
       "       [1.42571264e+08],\n",
       "       [1.09305176e+08],\n",
       "       [1.06926968e+08],\n",
       "       [4.51712250e+06],\n",
       "       [2.37641660e+07],\n",
       "       [5.94067000e+07],\n",
       "       [2.61384680e+07],\n",
       "       [1.48996469e+05],\n",
       "       [4.75241400e+07],\n",
       "       [2.51542734e+05],\n",
       "       [7.48516640e+07],\n",
       "       [1.07348110e+07],\n",
       "       [3.57079000e+06],\n",
       "       [3.19357250e+06],\n",
       "       [3.56791875e+06],\n",
       "       [1.42568120e+07],\n",
       "       [5.46222120e+07],\n",
       "       [4.75282960e+07],\n",
       "       [2.97016900e+07],\n",
       "       [1.45840400e+06],\n",
       "       [9.35253938e+05],\n",
       "       [1.01529150e+06],\n",
       "       [1.42614580e+07],\n",
       "       [1.29858538e+06],\n",
       "       [5.94072880e+07],\n",
       "       [4.75258480e+07],\n",
       "       [1.84920475e+06],\n",
       "       [2.01081688e+06],\n",
       "       [2.97052080e+07],\n",
       "       [2.37667920e+07],\n",
       "       [2.74217094e+05],\n",
       "       [1.18838020e+07],\n",
       "       [3.32659552e+08],\n",
       "       [7.92712350e+06],\n",
       "       [5.94033400e+07],\n",
       "       [8.31644640e+07],\n",
       "       [1.78215760e+07],\n",
       "       [1.16683838e+06],\n",
       "       [2.37644200e+07],\n",
       "       [5.34649160e+07],\n",
       "       [9.74213200e+07],\n",
       "       [2.97039140e+07],\n",
       "       [4.15858040e+07],\n",
       "       [1.92907188e+04],\n",
       "       [5.70253080e+07],\n",
       "       [4.27736160e+07],\n",
       "       [1.30742850e+07],\n",
       "       [6.54139000e+06],\n",
       "       [4.93084500e+05],\n",
       "       [9.50432800e+07],\n",
       "       [3.80753750e+04],\n",
       "       [8.20026500e+05],\n",
       "       [4.75277520e+07],\n",
       "       [4.75479900e+06],\n",
       "       [1.36623120e+08],\n",
       "       [8.07949280e+07],\n",
       "       [1.01021600e+07],\n",
       "       [1.18816960e+07],\n",
       "       [1.75063960e+07],\n",
       "       [4.75388350e+06],\n",
       "       [1.88948612e+06],\n",
       "       [8.31670880e+07],\n",
       "       [4.28607200e+07],\n",
       "       [6.72345200e+07],\n",
       "       [1.18812368e+08],\n",
       "       [6.81893550e+06],\n",
       "       [2.64388031e+05],\n",
       "       [9.50802200e+06],\n",
       "       [4.15838640e+07],\n",
       "       [6.30046750e+06],\n",
       "       [7.13036100e+06],\n",
       "       [4.15904640e+07],\n",
       "       [1.76984688e+06],\n",
       "       [1.36673040e+07],\n",
       "       [2.61656000e+06],\n",
       "       [1.41766920e+07],\n",
       "       [1.72821619e+03],\n",
       "       [2.97019420e+07],\n",
       "       [1.80196812e+05],\n",
       "       [5.31720352e+04],\n",
       "       [1.77038700e+07],\n",
       "       [3.80146525e+06],\n",
       "       [5.98579312e+05],\n",
       "       [1.49017988e+06],\n",
       "       [2.37614040e+07],\n",
       "       [6.91561600e+06],\n",
       "       [4.16602852e+04],\n",
       "       [2.13928640e+07],\n",
       "       [1.78423750e+06],\n",
       "       [1.98250880e+07],\n",
       "       [2.31670280e+07],\n",
       "       [9.50951400e+06],\n",
       "       [1.04265381e+06],\n",
       "       [2.13899120e+07],\n",
       "       [1.78216740e+07],\n",
       "       [1.97722938e+06],\n",
       "       [9.50481440e+07],\n",
       "       [1.66377780e+07],\n",
       "       [1.48510990e+07],\n",
       "       [1.99610180e+07],\n",
       "       [1.24765160e+07],\n",
       "       [1.12870144e+08],\n",
       "       [4.76048350e+06],\n",
       "       [4.51539920e+07],\n",
       "       [1.18883130e+07],\n",
       "       [7.12876480e+07],\n",
       "       [4.63354400e+07],\n",
       "       [1.49702000e+06],\n",
       "       [8.91073440e+07],\n",
       "       [1.20310688e+06],\n",
       "       [4.75244240e+07],\n",
       "       [1.78228960e+07],\n",
       "       [3.20745100e+07],\n",
       "       [4.75242600e+07],\n",
       "       [1.30607844e+05],\n",
       "       [1.81398020e+07],\n",
       "       [5.57870400e+06],\n",
       "       [7.81725195e+03],\n",
       "       [5.85730040e+07],\n",
       "       [6.41986950e+06],\n",
       "       [1.42570048e+08],\n",
       "       [3.64537200e+06],\n",
       "       [2.61406960e+07],\n",
       "       [5.58387120e+07],\n",
       "       [2.37769200e+06],\n",
       "       [2.85182620e+07],\n",
       "       [4.88631562e+05],\n",
       "       [6.63835000e+06],\n",
       "       [1.54446928e+08],\n",
       "       [1.21359023e+05],\n",
       "       [9.50444400e+06],\n",
       "       [1.54443260e+07],\n",
       "       [7.12854880e+07],\n",
       "       [1.48563170e+07],\n",
       "       [6.18011250e+06],\n",
       "       [4.17426450e+06],\n",
       "       [3.56260720e+07],\n",
       "       [1.78458725e+06],\n",
       "       [4.51488680e+07],\n",
       "       [2.13879640e+07],\n",
       "       [3.56987850e+06],\n",
       "       [1.08267020e+07],\n",
       "       [1.78208576e+08],\n",
       "       [4.75228760e+07],\n",
       "       [6.90220850e+03],\n",
       "       [3.56481960e+07],\n",
       "       [8.07769092e+03],\n",
       "       [1.81349100e+06],\n",
       "       [4.48775244e+03],\n",
       "       [2.73348460e+07],\n",
       "       [2.37831300e+06],\n",
       "       [3.54379975e+06],\n",
       "       [2.97087580e+07],\n",
       "       [4.15910960e+07],\n",
       "       [2.39804625e+06],\n",
       "       [3.20976150e+06],\n",
       "       [1.12335960e+07],\n",
       "       [8.07892960e+07],\n",
       "       [6.60644625e+05],\n",
       "       [6.77206320e+07],\n",
       "       [5.34660440e+07],\n",
       "       [1.51477056e+08],\n",
       "       [2.37378891e+05],\n",
       "       [8.91033920e+07],\n",
       "       [2.87966780e+07],\n",
       "       [1.90113220e+07],\n",
       "       [4.75736050e+06],\n",
       "       [9.50327200e+06],\n",
       "       [2.49523200e+07],\n",
       "       [6.57161200e+06],\n",
       "       [3.08886480e+07],\n",
       "       [3.44578640e+07],\n",
       "       [1.62471262e+06],\n",
       "       [9.50500160e+07],\n",
       "       [3.33099500e+06],\n",
       "       [1.78054800e+07],\n",
       "       [4.75247960e+07],\n",
       "       [1.03362352e+08],\n",
       "       [2.97049720e+07],\n",
       "       [6.52405188e+05],\n",
       "       [1.37738088e+06],\n",
       "       [5.94523500e+06],\n",
       "       [1.51498109e+05],\n",
       "       [7.04190000e+06],\n",
       "       [8.25845250e+06],\n",
       "       [1.01031360e+07],\n",
       "       [2.15005578e+05],\n",
       "       [5.94893850e+06],\n",
       "       [9.62379600e+06],\n",
       "       [1.66331920e+08],\n",
       "       [3.74084648e+04],\n",
       "       [3.80204800e+07],\n",
       "       [1.90121920e+07],\n",
       "       [8.91060240e+07],\n",
       "       [1.42629300e+07],\n",
       "       [7.60397760e+07],\n",
       "       [2.61459020e+07],\n",
       "       [1.06926096e+08],\n",
       "       [1.41089561e+04],\n",
       "       [2.97027920e+07],\n",
       "       [1.54454720e+08],\n",
       "       [1.12892320e+07],\n",
       "       [4.50694050e+06],\n",
       "       [3.56475440e+07],\n",
       "       [1.42613780e+07],\n",
       "       [4.51475640e+07],\n",
       "       [3.74278520e+07],\n",
       "       [1.19264975e+06],\n",
       "       [5.80014312e+05],\n",
       "       [1.35554162e+06],\n",
       "       [4.15828400e+07],\n",
       "       [3.56689500e+06],\n",
       "       [3.56470760e+07],\n",
       "       [1.54481420e+07],\n",
       "       [2.97046580e+07],\n",
       "       [1.01056190e+07],\n",
       "       [7.12853360e+07],\n",
       "       [2.01979280e+07],\n",
       "       [1.36897938e+06],\n",
       "       [7.12838640e+07],\n",
       "       [1.78195400e+07],\n",
       "       [2.73717175e+06],\n",
       "       [5.46693550e+06],\n",
       "       [4.75296950e+06],\n",
       "       [2.37618060e+07],\n",
       "       [3.95470040e+07],\n",
       "       [2.97436100e+06],\n",
       "       [7.24719120e+07],\n",
       "       [4.75267640e+07],\n",
       "       [2.38204650e+06],\n",
       "       [2.97056900e+07],\n",
       "       [2.35253680e+07],\n",
       "       [2.97036100e+07],\n",
       "       [2.37636860e+07],\n",
       "       [6.83795600e+06],\n",
       "       [1.78587640e+07],\n",
       "       [2.37690300e+07],\n",
       "       [5.34711240e+07],\n",
       "       [1.90130700e+07],\n",
       "       [6.29697960e+07],\n",
       "       [8.82140900e+06],\n",
       "       [4.15838200e+07],\n",
       "       [3.66713062e+05],\n",
       "       [2.49173672e+05],\n",
       "       [5.97715812e+05],\n",
       "       [4.15822680e+07],\n",
       "       [9.50483280e+07],\n",
       "       [4.47494680e+07],\n",
       "       [2.37618540e+07],\n",
       "       [1.39898060e+07],\n",
       "       [8.69663239e+01],\n",
       "       [1.34927488e+06],\n",
       "       [4.16097500e+05],\n",
       "       [1.54510050e+07],\n",
       "       [1.34947688e+06],\n",
       "       [7.12864640e+07],\n",
       "       [1.38779288e+06],\n",
       "       [4.25802969e+04],\n",
       "       [4.34789219e+04],\n",
       "       [7.72237920e+07],\n",
       "       [4.99034640e+07],\n",
       "       [4.15829200e+07]], dtype=float32)"
      ]
     },
     "execution_count": 740,
     "metadata": {},
     "output_type": "execute_result"
    }
   ],
   "source": [
    "new_model.predict([data_overview_test, data_b_to_c_test, data_generes_test ,data_org_lang_test, data_org_title_test,data_Keywords_test, data_spoken_lang_test, data_cast_test ,popl_runtime_test, budget_test])"
   ]
  },
  {
   "cell_type": "code",
   "execution_count": 741,
   "metadata": {},
   "outputs": [
    {
     "name": "stdout",
     "output_type": "stream",
     "text": [
      "500/500 [==============================] - 1s 1ms/sample - loss: 5.6236 - acc: 0.0000e+00\n"
     ]
    },
    {
     "data": {
      "text/plain": [
       "[5.623606109619141, 0.0]"
      ]
     },
     "execution_count": 741,
     "metadata": {},
     "output_type": "execute_result"
    }
   ],
   "source": [
    "new_model.compile(optimizer=tf.train.RMSPropOptimizer(0.01),\n",
    "              loss=keras.losses.mean_squared_logarithmic_error,\n",
    "              metrics=['accuracy'])\n",
    "\n",
    "\n",
    "new_model.evaluate([data_overview_test, data_b_to_c_test, data_generes_test ,data_org_lang_test, data_org_title_test,data_Keywords_test, data_spoken_lang_test, data_cast_test,popl_runtime_test, budget_test],revenue_test)"
   ]
  },
  {
   "cell_type": "code",
   "execution_count": 742,
   "metadata": {},
   "outputs": [
    {
     "data": {
      "image/png": "[encoded data removed]",
      "text/plain": [
       "<Figure size 432x288 with 1 Axes>"
      ]
     },
     "metadata": {
      "needs_background": "light"
     },
     "output_type": "display_data"
    }
   ],
   "source": [
    "import matplotlib.pyplot as plt\n",
    "\n",
    "\n",
    "loss = history.history['loss']\n",
    "val_loss = history.history['val_loss']\n",
    "epochs = range(1, len(loss) + 1)\n",
    "\n",
    "#fig1=plt.figure(2,figsize=(7,5))\n",
    "\n",
    "plt.plot(epochs, loss, 'bo', label='Training loss')\n",
    "plt.plot(epochs, val_loss, 'b', label='Validation loss')\n",
    "plt.title('Training and validation loss')\n",
    "plt.xlabel('Epochs')\n",
    "plt.ylabel('Loss')\n",
    "plt.legend()\n",
    "plt.show()\n",
    "\n",
    "\n",
    "\n"
   ]
  },
  {
   "cell_type": "code",
   "execution_count": 743,
   "metadata": {},
   "outputs": [
    {
     "data": {
      "image/png": "[encoded data removed]",
      "text/plain": [
       "<Figure size 432x288 with 1 Axes>"
      ]
     },
     "metadata": {
      "needs_background": "light"
     },
     "output_type": "display_data"
    }
   ],
   "source": [
    "import matplotlib.pyplot as plt\n",
    "\n",
    "\n",
    "acc = history.history['acc']\n",
    "val_acc = history.history['val_acc']\n",
    "epochs = range(1, len(acc) + 1)\n",
    "\n",
    "#fig1=plt.figure(2,figsize=(7,5))\n",
    "\n",
    "plt.plot(epochs, acc, 'bo', label='Training acc')\n",
    "plt.plot(epochs, val_acc, 'b', label='Validation acc')\n",
    "plt.title('Training and validation acc')\n",
    "plt.xlabel('Epochs')\n",
    "plt.ylabel('Acc')\n",
    "plt.legend()\n",
    "plt.show()\n",
    "\n",
    "\n",
    "\n"
   ]
  },
  {
   "cell_type": "code",
   "execution_count": null,
   "metadata": {},
   "outputs": [],
   "source": []
  },
  {
   "cell_type": "markdown",
   "metadata": {},
   "source": [
    "# Future scope"
   ]
  },
  {
   "cell_type": "markdown",
   "metadata": {},
   "source": [
    "- Some features can be removed or combined (PCA)\n",
    "- Pre trained embedding can be used (ex. glove word embeddings) and RNN can also be tried of feature like overview\n",
    "- some web scraping can be done for getting more data (information) related to existing features like cast, imdbid, etc.\n",
    "- Regularization can be used for reducing overfitting."
   ]
  },
  {
   "cell_type": "code",
   "execution_count": null,
   "metadata": {},
   "outputs": [],
   "source": []
  },
  {
   "cell_type": "markdown",
   "metadata": {},
   "source": [
    "# References::\n",
    "\n",
    "- https://keras.io/\n",
    "- google\n",
    "- Deep learning with python - François Chollet"
   ]
  }
 ],
 "metadata": {
  "kernelspec": {
   "display_name": "Python 3",
   "language": "python",
   "name": "python3"
  },
  "language_info": {
   "codemirror_mode": {
    "name": "ipython",
    "version": 3
   },
   "file_extension": ".py",
   "mimetype": "text/x-python",
   "name": "python",
   "nbconvert_exporter": "python",
   "pygments_lexer": "ipython3",
   "version": "3.7.3"
  }
 },
 "nbformat": 4,
 "nbformat_minor": 2
}
